{
  "nbformat": 4,
  "nbformat_minor": 0,
  "metadata": {
    "colab": {
      "name": "CNN Training",
      "provenance": [],
      "collapsed_sections": [],
      "machine_shape": "hm",
      "include_colab_link": true
    },
    "kernelspec": {
      "name": "python3",
      "display_name": "Python 3"
    },
    "accelerator": "GPU"
  },
  "cells": [
    {
      "cell_type": "markdown",
      "metadata": {
        "id": "view-in-github",
        "colab_type": "text"
      },
      "source": [
        "<a href=\"https://colab.research.google.com/github/akizeng/APM-Project/blob/master/CNN_Training.ipynb\" target=\"_parent\"><img src=\"https://colab.research.google.com/assets/colab-badge.svg\" alt=\"Open In Colab\"/></a>"
      ]
    },
    {
      "cell_type": "code",
      "metadata": {
        "id": "WScMbL__9Nsl",
        "colab_type": "code",
        "outputId": "ac2fc5f2-a120-4860-8bb3-457ac57ab7bc",
        "colab": {
          "base_uri": "https://localhost:8080/",
          "height": 238
        }
      },
      "source": [
        "!pip install -U -q kaggle\n",
        "\n",
        "!mkdir -p ~/.kaggle\n",
        "!echo '{\"username\":\"vkhanijow\",\"key\":\"f31dffe2714de1de287ceee28dc363f9\"}' > ~/.kaggle/kaggle.json\n",
        "!chmod 600 ~/.kaggle/kaggle.json\n",
        "\n",
        "!kaggle competitions download -c humpback-whale-identification"
      ],
      "execution_count": 0,
      "outputs": [
        {
          "output_type": "stream",
          "text": [
            "Warning: Looks like you're using an outdated API Version, please consider updating (server 1.5.6 / client 1.5.4)\n",
            "Downloading sample_submission.csv to /content\n",
            "  0% 0.00/498k [00:00<?, ?B/s]\n",
            "100% 498k/498k [00:00<00:00, 67.8MB/s]\n",
            "Downloading train.csv to /content\n",
            "  0% 0.00/594k [00:00<?, ?B/s]\n",
            "100% 594k/594k [00:00<00:00, 80.2MB/s]\n",
            "Downloading test.zip to /content\n",
            "100% 1.35G/1.35G [00:14<00:00, 109MB/s]\n",
            "\n",
            "Downloading train.zip to /content\n",
            "100% 4.15G/4.16G [00:32<00:00, 173MB/s]\n",
            "100% 4.16G/4.16G [00:32<00:00, 139MB/s]\n"
          ],
          "name": "stdout"
        }
      ]
    },
    {
      "cell_type": "code",
      "metadata": {
        "id": "NVSBCy8D9YfY",
        "colab_type": "code",
        "colab": {}
      },
      "source": [
        "!unzip \\*.zip"
      ],
      "execution_count": 0,
      "outputs": []
    },
    {
      "cell_type": "code",
      "metadata": {
        "id": "4C2Oa33W-Sul",
        "colab_type": "code",
        "colab": {}
      },
      "source": [
        "%matplotlib inline\n",
        "import random\n",
        "import math\n",
        "import numpy as np\n",
        "import matplotlib.pyplot as plt\n",
        "import os\n",
        "import cv2\n",
        "import pandas as pd\n",
        "from zipfile import ZipFile\n",
        "# Create a ZipFile Object and load sample.zip in it\n",
        "with ZipFile('train.zip', 'r') as zipObj:\n",
        "  # Extract all the contents of zip file in different directory\n",
        "  zipObj.extractall('train')"
      ],
      "execution_count": 0,
      "outputs": []
    },
    {
      "cell_type": "code",
      "metadata": {
        "id": "nU32jDRaBuqB",
        "colab_type": "code",
        "colab": {}
      },
      "source": [
        "df = pd.read_csv('train.csv')"
      ],
      "execution_count": 0,
      "outputs": []
    },
    {
      "cell_type": "code",
      "metadata": {
        "id": "yNl9eEBxB4Y6",
        "colab_type": "code",
        "outputId": "9a4a2e99-3d81-4b7a-cd87-9434901a727e",
        "colab": {
          "base_uri": "https://localhost:8080/",
          "height": 34
        }
      },
      "source": [
        "df.head()\n",
        "len(df)"
      ],
      "execution_count": 0,
      "outputs": [
        {
          "output_type": "execute_result",
          "data": {
            "text/plain": [
              "25361"
            ]
          },
          "metadata": {
            "tags": []
          },
          "execution_count": 21
        }
      ]
    },
    {
      "cell_type": "code",
      "metadata": {
        "id": "QP85-yEvB50y",
        "colab_type": "code",
        "outputId": "96f56944-a376-4900-8e79-bf70dbc92530",
        "colab": {
          "base_uri": "https://localhost:8080/",
          "height": 296
        }
      },
      "source": [
        "df2 = df.groupby('Id').count().sort_values(by='Image',ascending=False).reset_index()\n",
        "plt.plot(df2['Image'][1:],c='grey')\n",
        "plt.xlabel('Whale Id')\n",
        "plt.ylabel('Numbers')"
      ],
      "execution_count": 0,
      "outputs": [
        {
          "output_type": "execute_result",
          "data": {
            "text/plain": [
              "Text(0, 0.5, 'Numbers')"
            ]
          },
          "metadata": {
            "tags": []
          },
          "execution_count": 11
        },
        {
          "output_type": "display_data",
          "data": {
            "image/png": "[encoded data removed]",
            "text/plain": [
              "<Figure size 432x288 with 1 Axes>"
            ]
          },
          "metadata": {
            "tags": []
          }
        }
      ]
    },
    {
      "cell_type": "code",
      "metadata": {
        "id": "rXcE3sFEB7T8",
        "colab_type": "code",
        "outputId": "f91a1007-f491-4882-a471-c15b0f3d6a1d",
        "colab": {
          "base_uri": "https://localhost:8080/",
          "height": 34
        }
      },
      "source": [
        "len(df2[df2['Image']<10])/len(df2)"
      ],
      "execution_count": 0,
      "outputs": [
        {
          "output_type": "execute_result",
          "data": {
            "text/plain": [
              "0.9452547452547453"
            ]
          },
          "metadata": {
            "tags": []
          },
          "execution_count": 12
        }
      ]
    },
    {
      "cell_type": "code",
      "metadata": {
        "id": "B76EJ8ZzB83G",
        "colab_type": "code",
        "outputId": "f30696c7-9d02-4526-e276-6f1efcc49cb3",
        "colab": {
          "base_uri": "https://localhost:8080/",
          "height": 34
        }
      },
      "source": [
        "df2['Image'][0]/df2['Image'].sum()"
      ],
      "execution_count": 0,
      "outputs": [
        {
          "output_type": "execute_result",
          "data": {
            "text/plain": [
              "0.3810575292772367"
            ]
          },
          "metadata": {
            "tags": []
          },
          "execution_count": 13
        }
      ]
    },
    {
      "cell_type": "code",
      "metadata": {
        "id": "fgPLABMMhxUW",
        "colab_type": "code",
        "colab": {}
      },
      "source": [
        "TRAIN =\"train\"\n",
        "TEST = \"test\"\n",
        "LABELS = \"train.csv\"\n",
        "SUB = \"sample_submission.csv\"\n",
        "\n",
        "IMG_SIZE = 200\n",
        "\n",
        "\n",
        "def text2number(LABELS):\n",
        "    df = pd.read_csv(LABELS)\n",
        "    \n",
        "    uni_labels = pd.DataFrame(df['Id'].unique(),columns=['Id'])\n",
        "    uni_labels.index.name = 'ID_new'\n",
        "    uni_labels = uni_labels.reset_index()\n",
        "\n",
        "\n",
        "    df = df.merge(uni_labels,on='Id')\n",
        "    \n",
        "    return df\n",
        "    \n",
        "#submit = [p for _, p, _ in pd.read_csv(SUB).to_records()]\n",
        "#join = list(tagged.keys()) + submit\n",
        "df = text2number(LABELS)\n",
        "\n",
        "tagged = dict([(p, w) for _, p,_, w in df.to_records()])"
      ],
      "execution_count": 0,
      "outputs": []
    },
    {
      "cell_type": "code",
      "metadata": {
        "colab_type": "code",
        "outputId": "6802e6f9-b1e7-491f-cb8c-e665c298796f",
        "id": "nh5oyAivDuoq",
        "colab": {
          "base_uri": "https://localhost:8080/",
          "height": 145
        }
      },
      "source": [
        "path = os.path.abspath(TRAIN)\n",
        "for img in os.listdir(path):\n",
        "    img_array = cv2.imread(os.path.join(path,img),cv2.IMREAD_GRAYSCALE)\n",
        "    print(img)\n",
        "    plt.imshow(img_array,cmap='gray')\n",
        "    plt.show()\n",
        "    break"
      ],
      "execution_count": 0,
      "outputs": [
        {
          "output_type": "stream",
          "text": [
            "9c2ad64a9.jpg\n"
          ],
          "name": "stdout"
        },
        {
          "output_type": "display_data",
          "data": {
            "image/png": "[encoded data removed]",
            "text/plain": [
              "<Figure size 432x288 with 1 Axes>"
            ]
          },
          "metadata": {
            "tags": []
          }
        }
      ]
    },
    {
      "cell_type": "code",
      "metadata": {
        "id": "E9FydDNsB_oj",
        "colab_type": "code",
        "outputId": "bd65accb-86fa-444e-e95a-537fa8922ada",
        "colab": {
          "base_uri": "https://localhost:8080/",
          "height": 34
        }
      },
      "source": [
        "print(img_array.shape)"
      ],
      "execution_count": 0,
      "outputs": [
        {
          "output_type": "stream",
          "text": [
            "(239, 1050)\n"
          ],
          "name": "stdout"
        }
      ]
    },
    {
      "cell_type": "code",
      "metadata": {
        "id": "x_xyFtSeCHZa",
        "colab_type": "code",
        "outputId": "c84a1592-0b05-4a1b-d634-4e359038ecde",
        "colab": {
          "base_uri": "https://localhost:8080/",
          "height": 269
        }
      },
      "source": [
        "IMG_SIZE = 200\n",
        "\n",
        "new_array = cv2.resize(img_array,(IMG_SIZE, IMG_SIZE))\n",
        "plt.imshow(new_array,cmap='gray')\n",
        "plt.show()"
      ],
      "execution_count": 0,
      "outputs": [
        {
          "output_type": "display_data",
          "data": {
            "image/png": "[encoded data removed]",
            "text/plain": [
              "<Figure size 432x288 with 1 Axes>"
            ]
          },
          "metadata": {
            "tags": []
          }
        }
      ]
    },
    {
      "cell_type": "code",
      "metadata": {
        "id": "6yKRdUAgCJGF",
        "colab_type": "code",
        "outputId": "0771ec93-30a2-4907-bab3-d091123b167f",
        "colab": {
          "base_uri": "https://localhost:8080/",
          "height": 136
        }
      },
      "source": [
        "pd.read_csv(LABELS).to_records()"
      ],
      "execution_count": 0,
      "outputs": [
        {
          "output_type": "execute_result",
          "data": {
            "text/plain": [
              "rec.array([(    0, '0000e88ab.jpg', 'w_f48451c'),\n",
              "           (    1, '0001f9222.jpg', 'w_c3d896a'),\n",
              "           (    2, '00029d126.jpg', 'w_20df2c5'), ...,\n",
              "           (25358, 'fff9002e0.jpg', 'w_bd1c3d5'),\n",
              "           (25359, 'fffcde6fe.jpg', 'w_9f30885'),\n",
              "           (25360, 'fffde072b.jpg', 'new_whale')],\n",
              "          dtype=[('index', '<i8'), ('Image', 'O'), ('Id', 'O')])"
            ]
          },
          "metadata": {
            "tags": []
          },
          "execution_count": 18
        }
      ]
    },
    {
      "cell_type": "code",
      "metadata": {
        "id": "PlMUB4VdCP7R",
        "colab_type": "code",
        "outputId": "60614b53-f0b5-4ea8-dedf-42e8368eb484",
        "colab": {
          "base_uri": "https://localhost:8080/",
          "height": 204
        }
      },
      "source": [
        "df.head()"
      ],
      "execution_count": 0,
      "outputs": [
        {
          "output_type": "execute_result",
          "data": {
            "text/html": [
              "<div>\n",
              "<style scoped>\n",
              "    .dataframe tbody tr th:only-of-type {\n",
              "        vertical-align: middle;\n",
              "    }\n",
              "\n",
              "    .dataframe tbody tr th {\n",
              "        vertical-align: top;\n",
              "    }\n",
              "\n",
              "    .dataframe thead th {\n",
              "        text-align: right;\n",
              "    }\n",
              "</style>\n",
              "<table border=\"1\" class=\"dataframe\">\n",
              "  <thead>\n",
              "    <tr style=\"text-align: right;\">\n",
              "      <th></th>\n",
              "      <th>Image</th>\n",
              "      <th>Id</th>\n",
              "      <th>ID_new</th>\n",
              "    </tr>\n",
              "  </thead>\n",
              "  <tbody>\n",
              "    <tr>\n",
              "      <th>0</th>\n",
              "      <td>0000e88ab.jpg</td>\n",
              "      <td>w_f48451c</td>\n",
              "      <td>0</td>\n",
              "    </tr>\n",
              "    <tr>\n",
              "      <th>1</th>\n",
              "      <td>0af805558.jpg</td>\n",
              "      <td>w_f48451c</td>\n",
              "      <td>0</td>\n",
              "    </tr>\n",
              "    <tr>\n",
              "      <th>2</th>\n",
              "      <td>1c351b88e.jpg</td>\n",
              "      <td>w_f48451c</td>\n",
              "      <td>0</td>\n",
              "    </tr>\n",
              "    <tr>\n",
              "      <th>3</th>\n",
              "      <td>6f7abb1be.jpg</td>\n",
              "      <td>w_f48451c</td>\n",
              "      <td>0</td>\n",
              "    </tr>\n",
              "    <tr>\n",
              "      <th>4</th>\n",
              "      <td>77a44bf94.jpg</td>\n",
              "      <td>w_f48451c</td>\n",
              "      <td>0</td>\n",
              "    </tr>\n",
              "  </tbody>\n",
              "</table>\n",
              "</div>"
            ],
            "text/plain": [
              "           Image         Id  ID_new\n",
              "0  0000e88ab.jpg  w_f48451c       0\n",
              "1  0af805558.jpg  w_f48451c       0\n",
              "2  1c351b88e.jpg  w_f48451c       0\n",
              "3  6f7abb1be.jpg  w_f48451c       0\n",
              "4  77a44bf94.jpg  w_f48451c       0"
            ]
          },
          "metadata": {
            "tags": []
          },
          "execution_count": 15
        }
      ]
    },
    {
      "cell_type": "code",
      "metadata": {
        "id": "FAGakdKoCRoO",
        "colab_type": "code",
        "colab": {}
      },
      "source": [
        "df.to_csv('index_tag.csv')"
      ],
      "execution_count": 0,
      "outputs": []
    },
    {
      "cell_type": "code",
      "metadata": {
        "id": "DDMs84-8gW1U",
        "colab_type": "code",
        "outputId": "346a4607-cad0-401c-c786-6e6bf708cebf",
        "colab": {
          "base_uri": "https://localhost:8080/",
          "height": 80
        }
      },
      "source": [
        "import numpy as np \n",
        "import pandas as pd \n",
        "import os\n",
        "import matplotlib.pyplot as plt\n",
        "import matplotlib.image as mplimg\n",
        "from matplotlib.pyplot import imshow\n",
        "\n",
        "from sklearn.preprocessing import LabelEncoder\n",
        "from sklearn.preprocessing import OneHotEncoder\n",
        "\n",
        "from keras import layers\n",
        "from keras.preprocessing import image\n",
        "from keras.applications.imagenet_utils import preprocess_input\n",
        "from keras.layers import Input, Dense, Activation, BatchNormalization, Flatten, Conv2D\n",
        "from keras.layers import AveragePooling2D, MaxPooling2D, Dropout\n",
        "from keras.models import Model\n",
        "\n",
        "import keras.backend as K\n",
        "from keras.models import Sequential\n",
        "\n",
        "import warnings\n",
        "warnings.simplefilter(\"ignore\", category=DeprecationWarning)"
      ],
      "execution_count": 0,
      "outputs": [
        {
          "output_type": "stream",
          "text": [
            "Using TensorFlow backend.\n"
          ],
          "name": "stderr"
        },
        {
          "output_type": "display_data",
          "data": {
            "text/html": [
              "<p style=\"color: red;\">\n",
              "The default version of TensorFlow in Colab will soon switch to TensorFlow 2.x.<br>\n",
              "We recommend you <a href=\"https://www.tensorflow.org/guide/migrate\" target=\"_blank\">upgrade</a> now \n",
              "or ensure your notebook will continue to use TensorFlow 1.x via the <code>%tensorflow_version 1.x</code> magic:\n",
              "<a href=\"https://colab.research.google.com/notebooks/tensorflow_version.ipynb\" target=\"_blank\">more info</a>.</p>\n"
            ],
            "text/plain": [
              "<IPython.core.display.HTML object>"
            ]
          },
          "metadata": {
            "tags": []
          }
        }
      ]
    },
    {
      "cell_type": "code",
      "metadata": {
        "id": "YiqOo9EjCTox",
        "colab_type": "code",
        "colab": {}
      },
      "source": [
        "def create_training_data():\n",
        "    count = 1\n",
        "    training_data = []\n",
        "    class_num = []\n",
        "    for img in os.listdir(path):\n",
        "      try:\n",
        "        img_array = cv2.imread(os.path.join(path,img),cv2.IMREAD_GRAYSCALE)\n",
        "        new_array = cv2.resize(img_array,(IMG_SIZE, IMG_SIZE))\n",
        "        class_num = tagged[img]\n",
        "        training_data.append([new_array,class_num])\n",
        "        count += 1\n",
        "      except Exception as e:\n",
        "          pass           \n",
        "      else:\n",
        "          pass\n",
        "      \n",
        "      return training_data\n",
        "    \n",
        "train_data = create_training_data()"
      ],
      "execution_count": 0,
      "outputs": []
    },
    {
      "cell_type": "code",
      "metadata": {
        "id": "TasSiQn1cPKV",
        "colab_type": "code",
        "outputId": "8203ceaa-7fa0-4e62-c831-b1d3e8353b4d",
        "colab": {
          "base_uri": "https://localhost:8080/",
          "height": 136
        }
      },
      "source": [
        "train_data[:5]"
      ],
      "execution_count": 0,
      "outputs": [
        {
          "output_type": "execute_result",
          "data": {
            "text/plain": [
              "[[array([[254, 254, 254, ..., 254, 254, 254],\n",
              "         [255, 255, 255, ..., 255, 255, 255],\n",
              "         [255, 255, 255, ..., 255, 255, 255],\n",
              "         ...,\n",
              "         [248, 246, 246, ..., 254, 252, 253],\n",
              "         [248, 246, 244, ..., 253, 253, 254],\n",
              "         [245, 245, 243, ..., 252, 252, 250]], dtype=uint8), 572]]"
            ]
          },
          "metadata": {
            "tags": []
          },
          "execution_count": 23
        }
      ]
    },
    {
      "cell_type": "code",
      "metadata": {
        "id": "TQRwdNc8CVL9",
        "colab_type": "code",
        "colab": {}
      },
      "source": [
        "def prepareImages(data, m, dataset):\n",
        "    print(\"Preparing images\")\n",
        "    X_train = np.zeros((m, 100, 100, 3))\n",
        "    count = 0\n",
        "    \n",
        "    for fig in data['Image']:\n",
        "        #load images into images of size 100x100x3\n",
        "        img = image.load_img(dataset+\"/\"+fig, target_size=(100, 100, 3))\n",
        "        x = image.img_to_array(img)\n",
        "        x = preprocess_input(x)\n",
        "\n",
        "        X_train[count] = x\n",
        "        if (count%500 == 0):\n",
        "            print(\"Processing image: \", count+1, \", \", fig)\n",
        "        count += 1\n",
        "    \n",
        "    return X_train "
      ],
      "execution_count": 0,
      "outputs": []
    },
    {
      "cell_type": "code",
      "metadata": {
        "id": "U8IE1l14Gu0N",
        "colab_type": "code",
        "colab": {}
      },
      "source": [
        "def prepare_labels(y):\n",
        "    values = np.array(y)\n",
        "    label_encoder = LabelEncoder()\n",
        "    integer_encoded = label_encoder.fit_transform(values)\n",
        "    # print(integer_encoded)\n",
        "\n",
        "    onehot_encoder = OneHotEncoder(sparse=False)\n",
        "    integer_encoded = integer_encoded.reshape(len(integer_encoded), 1)\n",
        "    onehot_encoded = onehot_encoder.fit_transform(integer_encoded)\n",
        "    # print(onehot_encoded)\n",
        "\n",
        "    y = onehot_encoded\n",
        "    # print(y.shape)\n",
        "    return y, label_encoder"
      ],
      "execution_count": 0,
      "outputs": []
    },
    {
      "cell_type": "code",
      "metadata": {
        "id": "va45uDDyG4bK",
        "colab_type": "code",
        "outputId": "55e66eec-334f-441b-8bda-e5c9eaf63ef6",
        "colab": {
          "base_uri": "https://localhost:8080/",
          "height": 901
        }
      },
      "source": [
        "\n",
        "X = prepareImages(df, df.shape[0], \"train\")\n",
        "X /= 255"
      ],
      "execution_count": 0,
      "outputs": [
        {
          "output_type": "stream",
          "text": [
            "Preparing images\n",
            "Processing image:  1 ,  0000e88ab.jpg\n",
            "Processing image:  501 ,  0baa89964.jpg\n",
            "Processing image:  1001 ,  1984f2d9f.jpg\n",
            "Processing image:  1501 ,  26e271ca5.jpg\n",
            "Processing image:  2001 ,  34481f22e.jpg\n",
            "Processing image:  2501 ,  4110e4a11.jpg\n",
            "Processing image:  3001 ,  4dd7de9b0.jpg\n",
            "Processing image:  3501 ,  5a98812a7.jpg\n",
            "Processing image:  4001 ,  68a4ff4e2.jpg\n",
            "Processing image:  4501 ,  75f1368d1.jpg\n",
            "Processing image:  5001 ,  828a0641d.jpg\n",
            "Processing image:  5501 ,  8fdecbd92.jpg\n",
            "Processing image:  6001 ,  9c9fd59ef.jpg\n",
            "Processing image:  6501 ,  a93955ecc.jpg\n",
            "Processing image:  7001 ,  b665f5243.jpg\n",
            "Processing image:  7501 ,  c4ecb125f.jpg\n",
            "Processing image:  8001 ,  d2b5789f2.jpg\n",
            "Processing image:  8501 ,  df15cc35a.jpg\n",
            "Processing image:  9001 ,  ed38599c2.jpg\n",
            "Processing image:  9501 ,  fa9699838.jpg\n",
            "Processing image:  10001 ,  5eb83a49f.jpg\n",
            "Processing image:  10501 ,  e9ac41eae.jpg\n",
            "Processing image:  11001 ,  60fd46031.jpg\n",
            "Processing image:  11501 ,  b17668b8c.jpg\n",
            "Processing image:  12001 ,  c99b26f91.jpg\n",
            "Processing image:  12501 ,  2669fa8f7.jpg\n",
            "Processing image:  13001 ,  c4d535ab2.jpg\n",
            "Processing image:  13501 ,  11835e311.jpg\n",
            "Processing image:  14001 ,  c8f5f98d1.jpg\n",
            "Processing image:  14501 ,  f67ca6128.jpg\n",
            "Processing image:  15001 ,  e109a3fd9.jpg\n",
            "Processing image:  15501 ,  b3c0e0383.jpg\n",
            "Processing image:  16001 ,  837a5764d.jpg\n",
            "Processing image:  16501 ,  1738e0af6.jpg\n",
            "Processing image:  17001 ,  d884e3dc2.jpg\n",
            "Processing image:  17501 ,  2fd41857f.jpg\n",
            "Processing image:  18001 ,  227283ca0.jpg\n",
            "Processing image:  18501 ,  6d053e4a4.jpg\n",
            "Processing image:  19001 ,  96dd85f60.jpg\n",
            "Processing image:  19501 ,  b91b70b60.jpg\n",
            "Processing image:  20001 ,  bf14686c7.jpg\n",
            "Processing image:  20501 ,  47289a3a7.jpg\n",
            "Processing image:  21001 ,  47b1dd8b5.jpg\n",
            "Processing image:  21501 ,  f8c0e508e.jpg\n",
            "Processing image:  22001 ,  c422c89b2.jpg\n",
            "Processing image:  22501 ,  6773a9e16.jpg\n",
            "Processing image:  23001 ,  adce4064c.jpg\n",
            "Processing image:  23501 ,  87598a765.jpg\n",
            "Processing image:  24001 ,  992015351.jpg\n",
            "Processing image:  24501 ,  b37bb22c9.jpg\n",
            "Processing image:  25001 ,  d87476d78.jpg\n"
          ],
          "name": "stdout"
        }
      ]
    },
    {
      "cell_type": "code",
      "metadata": {
        "id": "LGUGqt7YHIb6",
        "colab_type": "code",
        "outputId": "922636fc-61f1-49fc-f145-7679dde3c812",
        "colab": {
          "base_uri": "https://localhost:8080/",
          "height": 105
        }
      },
      "source": [
        "y, label_encoder = prepare_labels(df['Id'])"
      ],
      "execution_count": 0,
      "outputs": [
        {
          "output_type": "stream",
          "text": [
            "/usr/local/lib/python3.6/dist-packages/sklearn/preprocessing/_encoders.py:415: FutureWarning: The handling of integer data will change in version 0.22. Currently, the categories are determined based on the range [0, max(values)], while in the future they will be determined based on the unique values.\n",
            "If you want the future behaviour and silence this warning, you can specify \"categories='auto'\".\n",
            "In case you used a LabelEncoder before this OneHotEncoder to convert the categories to integers, then you can now use the OneHotEncoder directly.\n",
            "  warnings.warn(msg, FutureWarning)\n"
          ],
          "name": "stderr"
        }
      ]
    },
    {
      "cell_type": "code",
      "metadata": {
        "id": "b1ssaEj8b6sh",
        "colab_type": "code",
        "outputId": "33a66165-fc9a-4598-82ea-cd687c581829",
        "colab": {
          "base_uri": "https://localhost:8080/",
          "height": 34
        }
      },
      "source": [
        "y.shape"
      ],
      "execution_count": 0,
      "outputs": [
        {
          "output_type": "execute_result",
          "data": {
            "text/plain": [
              "(25361, 5005)"
            ]
          },
          "metadata": {
            "tags": []
          },
          "execution_count": 33
        }
      ]
    },
    {
      "cell_type": "code",
      "metadata": {
        "id": "3u3JSXc4j-rY",
        "colab_type": "code",
        "outputId": "55d477fb-b5ca-420c-9d6d-671137a7b433",
        "colab": {
          "base_uri": "https://localhost:8080/",
          "height": 564
        }
      },
      "source": [
        "model = Sequential()\n",
        "\n",
        "model.add(Conv2D(32, (7, 7), strides = (1, 1), name = 'conv0', input_shape = (100, 100, 3)))\n",
        "\n",
        "model.add(BatchNormalization(axis = 3, name = 'bn0'))\n",
        "model.add(Activation('relu'))\n",
        "\n",
        "model.add(MaxPooling2D((2, 2), name='max_pool'))\n",
        "model.add(Conv2D(64, (3, 3), strides = (1,1), name=\"conv1\"))\n",
        "model.add(Activation('relu'))\n",
        "model.add(AveragePooling2D((3, 3), name='avg_pool'))\n",
        "\n",
        "model.add(Flatten())\n",
        "model.add(Dense(512, activation=\"relu\", name='rl'))\n",
        "model.add(Dropout(0.8))\n",
        "model.add(Dense(y.shape[1], activation='softmax', name='sm'))\n",
        "\n",
        "model.compile(loss='categorical_crossentropy', optimizer=\"adam\", metrics=['accuracy'])\n",
        "model.summary()"
      ],
      "execution_count": 0,
      "outputs": [
        {
          "output_type": "stream",
          "text": [
            "WARNING:tensorflow:Large dropout rate: 0.8 (>0.5). In TensorFlow 2.x, dropout() uses dropout rate instead of keep_prob. Please ensure that this is intended.\n",
            "Model: \"sequential_2\"\n",
            "_________________________________________________________________\n",
            "Layer (type)                 Output Shape              Param #   \n",
            "=================================================================\n",
            "conv0 (Conv2D)               (None, 94, 94, 32)        4736      \n",
            "_________________________________________________________________\n",
            "bn0 (BatchNormalization)     (None, 94, 94, 32)        128       \n",
            "_________________________________________________________________\n",
            "activation_3 (Activation)    (None, 94, 94, 32)        0         \n",
            "_________________________________________________________________\n",
            "max_pool (MaxPooling2D)      (None, 47, 47, 32)        0         \n",
            "_________________________________________________________________\n",
            "conv1 (Conv2D)               (None, 45, 45, 64)        18496     \n",
            "_________________________________________________________________\n",
            "activation_4 (Activation)    (None, 45, 45, 64)        0         \n",
            "_________________________________________________________________\n",
            "avg_pool (AveragePooling2D)  (None, 15, 15, 64)        0         \n",
            "_________________________________________________________________\n",
            "flatten_2 (Flatten)          (None, 14400)             0         \n",
            "_________________________________________________________________\n",
            "rl (Dense)                   (None, 512)               7373312   \n",
            "_________________________________________________________________\n",
            "dropout_2 (Dropout)          (None, 512)               0         \n",
            "_________________________________________________________________\n",
            "sm (Dense)                   (None, 5005)              2567565   \n",
            "=================================================================\n",
            "Total params: 9,964,237\n",
            "Trainable params: 9,964,173\n",
            "Non-trainable params: 64\n",
            "_________________________________________________________________\n"
          ],
          "name": "stdout"
        }
      ]
    },
    {
      "cell_type": "code",
      "metadata": {
        "id": "0q6x_cpQiuYE",
        "colab_type": "code",
        "outputId": "a3a5b0fc-7501-4284-9b1c-1bd52548c542",
        "colab": {
          "base_uri": "https://localhost:8080/",
          "height": 1000
        }
      },
      "source": [
        "history = model.fit(X, y, epochs=100, batch_size=100, verbose=1)\n",
        "#gc.collect()"
      ],
      "execution_count": 0,
      "outputs": [
        {
          "output_type": "stream",
          "text": [
            "Epoch 1/100\n",
            "25361/25361 [==============================] - 11s 442us/step - loss: 6.1817 - acc: 0.3795\n",
            "Epoch 2/100\n",
            "25361/25361 [==============================] - 11s 414us/step - loss: 5.9085 - acc: 0.3811\n",
            "Epoch 3/100\n",
            "25361/25361 [==============================] - 11s 416us/step - loss: 5.7923 - acc: 0.3811\n",
            "Epoch 4/100\n",
            "25361/25361 [==============================] - 11s 415us/step - loss: 5.7489 - acc: 0.3811\n",
            "Epoch 5/100\n",
            "25361/25361 [==============================] - 11s 417us/step - loss: 5.7067 - acc: 0.3811\n",
            "Epoch 6/100\n",
            "25361/25361 [==============================] - 11s 416us/step - loss: 5.6760 - acc: 0.3811\n",
            "Epoch 7/100\n",
            "25361/25361 [==============================] - 11s 415us/step - loss: 5.6463 - acc: 0.3811\n",
            "Epoch 8/100\n",
            "25361/25361 [==============================] - 10s 413us/step - loss: 5.6247 - acc: 0.3811\n",
            "Epoch 9/100\n",
            "25361/25361 [==============================] - 11s 416us/step - loss: 5.5834 - acc: 0.3811\n",
            "Epoch 10/100\n",
            "25361/25361 [==============================] - 11s 415us/step - loss: 5.5393 - acc: 0.3811\n",
            "Epoch 11/100\n",
            "25361/25361 [==============================] - 11s 414us/step - loss: 5.4897 - acc: 0.3811\n",
            "Epoch 12/100\n",
            "25361/25361 [==============================] - 11s 417us/step - loss: 5.4273 - acc: 0.3811\n",
            "Epoch 13/100\n",
            "25361/25361 [==============================] - 11s 417us/step - loss: 5.3737 - acc: 0.3811\n",
            "Epoch 14/100\n",
            "25361/25361 [==============================] - 11s 416us/step - loss: 5.2784 - acc: 0.3811\n",
            "Epoch 15/100\n",
            "25361/25361 [==============================] - 10s 414us/step - loss: 5.1953 - acc: 0.3811\n",
            "Epoch 16/100\n",
            "25361/25361 [==============================] - 11s 420us/step - loss: 5.0901 - acc: 0.3811\n",
            "Epoch 17/100\n",
            "25361/25361 [==============================] - 11s 416us/step - loss: 4.9813 - acc: 0.3811\n",
            "Epoch 18/100\n",
            "25361/25361 [==============================] - 11s 416us/step - loss: 4.8360 - acc: 0.3811\n",
            "Epoch 19/100\n",
            "25361/25361 [==============================] - 11s 415us/step - loss: 4.6954 - acc: 0.3812\n",
            "Epoch 20/100\n",
            "25361/25361 [==============================] - 11s 415us/step - loss: 4.5072 - acc: 0.3825\n",
            "Epoch 21/100\n",
            "25361/25361 [==============================] - 10s 413us/step - loss: 4.3057 - acc: 0.3843\n",
            "Epoch 22/100\n",
            "25361/25361 [==============================] - 11s 417us/step - loss: 4.0953 - acc: 0.3877\n",
            "Epoch 23/100\n",
            "25361/25361 [==============================] - 11s 415us/step - loss: 3.8474 - acc: 0.3976\n",
            "Epoch 24/100\n",
            "25361/25361 [==============================] - 11s 416us/step - loss: 3.6027 - acc: 0.4077\n",
            "Epoch 25/100\n",
            "25361/25361 [==============================] - 11s 415us/step - loss: 3.3596 - acc: 0.4215\n",
            "Epoch 26/100\n",
            "25361/25361 [==============================] - 11s 417us/step - loss: 3.1158 - acc: 0.4404\n",
            "Epoch 27/100\n",
            "25361/25361 [==============================] - 11s 415us/step - loss: 2.8688 - acc: 0.4659\n",
            "Epoch 28/100\n",
            "25361/25361 [==============================] - 11s 416us/step - loss: 2.6649 - acc: 0.4871\n",
            "Epoch 29/100\n",
            "25361/25361 [==============================] - 10s 414us/step - loss: 2.4884 - acc: 0.5079\n",
            "Epoch 30/100\n",
            "25361/25361 [==============================] - 11s 415us/step - loss: 2.3003 - acc: 0.5330\n",
            "Epoch 31/100\n",
            "25361/25361 [==============================] - 10s 413us/step - loss: 2.1582 - acc: 0.5499\n",
            "Epoch 32/100\n",
            "25361/25361 [==============================] - 11s 417us/step - loss: 2.0232 - acc: 0.5712\n",
            "Epoch 33/100\n",
            "25361/25361 [==============================] - 11s 414us/step - loss: 1.8802 - acc: 0.5924\n",
            "Epoch 34/100\n",
            "25361/25361 [==============================] - 11s 419us/step - loss: 1.7808 - acc: 0.6088\n",
            "Epoch 35/100\n",
            "25361/25361 [==============================] - 11s 414us/step - loss: 1.6610 - acc: 0.6279\n",
            "Epoch 36/100\n",
            "25361/25361 [==============================] - 11s 415us/step - loss: 1.5774 - acc: 0.6414\n",
            "Epoch 37/100\n",
            "25361/25361 [==============================] - 10s 414us/step - loss: 1.4919 - acc: 0.6629\n",
            "Epoch 38/100\n",
            "25361/25361 [==============================] - 11s 416us/step - loss: 1.4076 - acc: 0.6751\n",
            "Epoch 39/100\n",
            "25361/25361 [==============================] - 11s 414us/step - loss: 1.3612 - acc: 0.6794\n",
            "Epoch 40/100\n",
            "25361/25361 [==============================] - 11s 416us/step - loss: 1.2635 - acc: 0.7021\n",
            "Epoch 41/100\n",
            "25361/25361 [==============================] - 11s 415us/step - loss: 1.2040 - acc: 0.7110\n",
            "Epoch 42/100\n",
            "25361/25361 [==============================] - 11s 415us/step - loss: 1.1547 - acc: 0.7222\n",
            "Epoch 43/100\n",
            "25361/25361 [==============================] - 11s 414us/step - loss: 1.1372 - acc: 0.7271\n",
            "Epoch 44/100\n",
            "25361/25361 [==============================] - 11s 416us/step - loss: 1.0750 - acc: 0.7458\n",
            "Epoch 45/100\n",
            "25361/25361 [==============================] - 11s 416us/step - loss: 1.0381 - acc: 0.7428\n",
            "Epoch 46/100\n",
            "25361/25361 [==============================] - 11s 420us/step - loss: 0.9856 - acc: 0.7560\n",
            "Epoch 47/100\n",
            "25361/25361 [==============================] - 11s 414us/step - loss: 0.9369 - acc: 0.7670\n",
            "Epoch 48/100\n",
            "25361/25361 [==============================] - 11s 417us/step - loss: 0.9101 - acc: 0.7740\n",
            "Epoch 49/100\n",
            "25361/25361 [==============================] - 10s 413us/step - loss: 0.8753 - acc: 0.7813\n",
            "Epoch 50/100\n",
            "25361/25361 [==============================] - 11s 416us/step - loss: 0.8546 - acc: 0.7859\n",
            "Epoch 51/100\n",
            "25361/25361 [==============================] - 10s 413us/step - loss: 0.8216 - acc: 0.7945\n",
            "Epoch 52/100\n",
            "25361/25361 [==============================] - 11s 416us/step - loss: 0.8087 - acc: 0.7977\n",
            "Epoch 53/100\n",
            "25361/25361 [==============================] - 11s 414us/step - loss: 0.7797 - acc: 0.8052\n",
            "Epoch 54/100\n",
            "25361/25361 [==============================] - 11s 417us/step - loss: 0.7512 - acc: 0.8068\n",
            "Epoch 55/100\n",
            "25361/25361 [==============================] - 11s 416us/step - loss: 0.7494 - acc: 0.8096\n",
            "Epoch 56/100\n",
            "25361/25361 [==============================] - 11s 417us/step - loss: 0.7171 - acc: 0.8193\n",
            "Epoch 57/100\n",
            "25361/25361 [==============================] - 11s 415us/step - loss: 0.7198 - acc: 0.8167\n",
            "Epoch 58/100\n",
            "25361/25361 [==============================] - 11s 415us/step - loss: 0.6912 - acc: 0.8255\n",
            "Epoch 59/100\n",
            "25361/25361 [==============================] - 10s 413us/step - loss: 0.6601 - acc: 0.8285\n",
            "Epoch 60/100\n",
            "25361/25361 [==============================] - 11s 416us/step - loss: 0.6550 - acc: 0.8321\n",
            "Epoch 61/100\n",
            "25361/25361 [==============================] - 11s 415us/step - loss: 0.6299 - acc: 0.8367\n",
            "Epoch 62/100\n",
            "25361/25361 [==============================] - 11s 414us/step - loss: 0.6214 - acc: 0.8397\n",
            "Epoch 63/100\n",
            "25361/25361 [==============================] - 11s 415us/step - loss: 0.5958 - acc: 0.8457\n",
            "Epoch 64/100\n",
            "25361/25361 [==============================] - 11s 414us/step - loss: 0.5785 - acc: 0.8504\n",
            "Epoch 65/100\n",
            "25361/25361 [==============================] - 11s 416us/step - loss: 0.5759 - acc: 0.8510\n",
            "Epoch 66/100\n",
            "25361/25361 [==============================] - 10s 413us/step - loss: 0.5765 - acc: 0.8501\n",
            "Epoch 67/100\n",
            "25361/25361 [==============================] - 11s 416us/step - loss: 0.5603 - acc: 0.8556\n",
            "Epoch 68/100\n",
            "25361/25361 [==============================] - 10s 413us/step - loss: 0.5557 - acc: 0.8585\n",
            "Epoch 69/100\n",
            "25361/25361 [==============================] - 11s 416us/step - loss: 0.5439 - acc: 0.8584\n",
            "Epoch 70/100\n",
            "25361/25361 [==============================] - 10s 412us/step - loss: 0.5332 - acc: 0.8623\n",
            "Epoch 71/100\n",
            "25361/25361 [==============================] - 11s 414us/step - loss: 0.5208 - acc: 0.8633\n",
            "Epoch 72/100\n",
            "25361/25361 [==============================] - 10s 413us/step - loss: 0.5232 - acc: 0.8629\n",
            "Epoch 73/100\n",
            "25361/25361 [==============================] - 11s 416us/step - loss: 0.5028 - acc: 0.8697\n",
            "Epoch 74/100\n",
            "25361/25361 [==============================] - 11s 414us/step - loss: 0.4850 - acc: 0.8720\n",
            "Epoch 75/100\n",
            "25361/25361 [==============================] - 11s 420us/step - loss: 0.4871 - acc: 0.8701\n",
            "Epoch 76/100\n",
            "25361/25361 [==============================] - 11s 420us/step - loss: 0.4895 - acc: 0.8729\n",
            "Epoch 77/100\n",
            "25361/25361 [==============================] - 11s 416us/step - loss: 0.4696 - acc: 0.8771\n",
            "Epoch 78/100\n",
            "25361/25361 [==============================] - 10s 414us/step - loss: 0.4616 - acc: 0.8777\n",
            "Epoch 79/100\n",
            "25361/25361 [==============================] - 11s 414us/step - loss: 0.4638 - acc: 0.8809\n",
            "Epoch 80/100\n",
            "25361/25361 [==============================] - 11s 415us/step - loss: 0.4390 - acc: 0.8836\n",
            "Epoch 81/100\n",
            "25361/25361 [==============================] - 11s 439us/step - loss: 0.4341 - acc: 0.8851\n",
            "Epoch 82/100\n",
            "25361/25361 [==============================] - 10s 414us/step - loss: 0.4269 - acc: 0.8862\n",
            "Epoch 83/100\n",
            "25361/25361 [==============================] - 10s 412us/step - loss: 0.4410 - acc: 0.8843\n",
            "Epoch 84/100\n",
            "25361/25361 [==============================] - 11s 416us/step - loss: 0.4259 - acc: 0.8904\n",
            "Epoch 85/100\n",
            "25361/25361 [==============================] - 10s 412us/step - loss: 0.4312 - acc: 0.8885\n",
            "Epoch 86/100\n",
            "25361/25361 [==============================] - 10s 413us/step - loss: 0.4217 - acc: 0.8913\n",
            "Epoch 87/100\n",
            "25361/25361 [==============================] - 10s 410us/step - loss: 0.4125 - acc: 0.8908\n",
            "Epoch 88/100\n",
            "25361/25361 [==============================] - 10s 411us/step - loss: 0.4170 - acc: 0.8909\n",
            "Epoch 89/100\n",
            "25361/25361 [==============================] - 10s 411us/step - loss: 0.3955 - acc: 0.8948\n",
            "Epoch 90/100\n",
            "25361/25361 [==============================] - 10s 412us/step - loss: 0.3871 - acc: 0.8981\n",
            "Epoch 91/100\n",
            "25361/25361 [==============================] - 10s 413us/step - loss: 0.3841 - acc: 0.8991\n",
            "Epoch 92/100\n",
            "25361/25361 [==============================] - 10s 411us/step - loss: 0.3761 - acc: 0.9011\n",
            "Epoch 93/100\n",
            "25361/25361 [==============================] - 10s 409us/step - loss: 0.3828 - acc: 0.8984\n",
            "Epoch 94/100\n",
            "25361/25361 [==============================] - 10s 414us/step - loss: 0.3760 - acc: 0.9036\n",
            "Epoch 95/100\n",
            "25361/25361 [==============================] - 10s 406us/step - loss: 0.3758 - acc: 0.9007\n",
            "Epoch 96/100\n",
            "25361/25361 [==============================] - 10s 413us/step - loss: 0.3673 - acc: 0.9014\n",
            "Epoch 97/100\n",
            "25361/25361 [==============================] - 10s 408us/step - loss: 0.3653 - acc: 0.9024\n",
            "Epoch 98/100\n",
            "25361/25361 [==============================] - 10s 410us/step - loss: 0.3494 - acc: 0.9080\n",
            "Epoch 99/100\n",
            "25361/25361 [==============================] - 10s 411us/step - loss: 0.3702 - acc: 0.9023\n",
            "Epoch 100/100\n",
            "25361/25361 [==============================] - 10s 413us/step - loss: 0.3435 - acc: 0.9106\n"
          ],
          "name": "stdout"
        }
      ]
    },
    {
      "cell_type": "code",
      "metadata": {
        "id": "WUu6whamk-EI",
        "colab_type": "code",
        "outputId": "30ca88dd-53fd-41b1-c8de-3bfeae1980c8",
        "colab": {
          "base_uri": "https://localhost:8080/",
          "height": 295
        }
      },
      "source": [
        "plt.plot(history.history['acc'])\n",
        "plt.title('Model accuracy')\n",
        "plt.ylabel('Accuracy')\n",
        "plt.xlabel('Epoch')\n",
        "plt.show()"
      ],
      "execution_count": 0,
      "outputs": [
        {
          "output_type": "display_data",
          "data": {
            "image/png": "[encoded data removed]",
            "text/plain": [
              "<Figure size 432x288 with 1 Axes>"
            ]
          },
          "metadata": {
            "tags": []
          }
        }
      ]
    }
  ]
}