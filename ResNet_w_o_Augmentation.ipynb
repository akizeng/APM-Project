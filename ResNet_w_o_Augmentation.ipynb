{
  "nbformat": 4,
  "nbformat_minor": 0,
  "metadata": {
    "colab": {
      "name": "ResNet w/o Augmentation",
      "provenance": [],
      "collapsed_sections": [],
      "machine_shape": "hm",
      "include_colab_link": true
    },
    "kernelspec": {
      "name": "python3",
      "display_name": "Python 3"
    },
    "accelerator": "GPU"
  },
  "cells": [
    {
      "cell_type": "markdown",
      "metadata": {
        "id": "view-in-github",
        "colab_type": "text"
      },
      "source": [
        "<a href=\"https://colab.research.google.com/github/akizeng/APM-Project/blob/master/ResNet_w_o_Augmentation.ipynb\" target=\"_parent\"><img src=\"https://colab.research.google.com/assets/colab-badge.svg\" alt=\"Open In Colab\"/></a>"
      ]
    },
    {
      "cell_type": "code",
      "metadata": {
        "id": "WScMbL__9Nsl",
        "colab_type": "code",
        "outputId": "b090637a-8c6b-4b16-ab6c-3447d5697a9e",
        "colab": {
          "base_uri": "https://localhost:8080/",
          "height": 238
        }
      },
      "source": [
        "!pip install -U -q kaggle\n",
        "\n",
        "!mkdir -p ~/.kaggle\n",
        "!echo '{}' > ~/.kaggle/kaggle.json\n",
        "!chmod 600 ~/.kaggle/kaggle.json\n",
        "\n",
        "!kaggle competitions download -c humpback-whale-identification"
      ],
      "execution_count": 0,
      "outputs": [
        {
          "output_type": "stream",
          "text": [
            "Warning: Looks like you're using an outdated API Version, please consider updating (server 1.5.6 / client 1.5.4)\n",
            "Downloading sample_submission.csv to /content\n",
            "  0% 0.00/498k [00:00<?, ?B/s]\n",
            "100% 498k/498k [00:00<00:00, 75.4MB/s]\n",
            "Downloading train.csv to /content\n",
            "  0% 0.00/594k [00:00<?, ?B/s]\n",
            "100% 594k/594k [00:00<00:00, 83.3MB/s]\n",
            "Downloading test.zip to /content\n",
            "100% 1.34G/1.35G [00:16<00:00, 117MB/s]\n",
            "100% 1.35G/1.35G [00:16<00:00, 88.6MB/s]\n",
            "Downloading train.zip to /content\n",
            "100% 4.15G/4.16G [01:12<00:00, 47.2MB/s]\n",
            "100% 4.16G/4.16G [01:12<00:00, 61.6MB/s]\n"
          ],
          "name": "stdout"
        }
      ]
    },
    {
      "cell_type": "code",
      "metadata": {
        "id": "NVSBCy8D9YfY",
        "colab_type": "code",
        "colab": {}
      },
      "source": [
        "!unzip \\*.zip"
      ],
      "execution_count": 0,
      "outputs": []
    },
    {
      "cell_type": "code",
      "metadata": {
        "id": "4C2Oa33W-Sul",
        "colab_type": "code",
        "colab": {}
      },
      "source": [
        "%matplotlib inline\n",
        "import random\n",
        "import math\n",
        "import numpy as np\n",
        "import matplotlib.pyplot as plt\n",
        "import os\n",
        "import cv2\n",
        "import pandas as pd\n",
        "from zipfile import ZipFile\n",
        "# Create a ZipFile Object and load sample.zip in it\n",
        "with ZipFile('train.zip', 'r') as zipObj:\n",
        "  # Extract all the contents of zip file in different directory\n",
        "  zipObj.extractall('train')"
      ],
      "execution_count": 0,
      "outputs": []
    },
    {
      "cell_type": "code",
      "metadata": {
        "id": "nU32jDRaBuqB",
        "colab_type": "code",
        "colab": {}
      },
      "source": [
        "df = pd.read_csv('train.csv')"
      ],
      "execution_count": 0,
      "outputs": []
    },
    {
      "cell_type": "code",
      "metadata": {
        "id": "yNl9eEBxB4Y6",
        "colab_type": "code",
        "outputId": "067b6c52-2c08-43bb-fa88-68809d4ad6d4",
        "colab": {
          "base_uri": "https://localhost:8080/",
          "height": 204
        }
      },
      "source": [
        "df.head()"
      ],
      "execution_count": 0,
      "outputs": [
        {
          "output_type": "execute_result",
          "data": {
            "text/html": [
              "<div>\n",
              "<style scoped>\n",
              "    .dataframe tbody tr th:only-of-type {\n",
              "        vertical-align: middle;\n",
              "    }\n",
              "\n",
              "    .dataframe tbody tr th {\n",
              "        vertical-align: top;\n",
              "    }\n",
              "\n",
              "    .dataframe thead th {\n",
              "        text-align: right;\n",
              "    }\n",
              "</style>\n",
              "<table border=\"1\" class=\"dataframe\">\n",
              "  <thead>\n",
              "    <tr style=\"text-align: right;\">\n",
              "      <th></th>\n",
              "      <th>Image</th>\n",
              "      <th>Id</th>\n",
              "    </tr>\n",
              "  </thead>\n",
              "  <tbody>\n",
              "    <tr>\n",
              "      <th>0</th>\n",
              "      <td>0000e88ab.jpg</td>\n",
              "      <td>w_f48451c</td>\n",
              "    </tr>\n",
              "    <tr>\n",
              "      <th>1</th>\n",
              "      <td>0001f9222.jpg</td>\n",
              "      <td>w_c3d896a</td>\n",
              "    </tr>\n",
              "    <tr>\n",
              "      <th>2</th>\n",
              "      <td>00029d126.jpg</td>\n",
              "      <td>w_20df2c5</td>\n",
              "    </tr>\n",
              "    <tr>\n",
              "      <th>3</th>\n",
              "      <td>00050a15a.jpg</td>\n",
              "      <td>new_whale</td>\n",
              "    </tr>\n",
              "    <tr>\n",
              "      <th>4</th>\n",
              "      <td>0005c1ef8.jpg</td>\n",
              "      <td>new_whale</td>\n",
              "    </tr>\n",
              "  </tbody>\n",
              "</table>\n",
              "</div>"
            ],
            "text/plain": [
              "           Image         Id\n",
              "0  0000e88ab.jpg  w_f48451c\n",
              "1  0001f9222.jpg  w_c3d896a\n",
              "2  00029d126.jpg  w_20df2c5\n",
              "3  00050a15a.jpg  new_whale\n",
              "4  0005c1ef8.jpg  new_whale"
            ]
          },
          "metadata": {
            "tags": []
          },
          "execution_count": 6
        }
      ]
    },
    {
      "cell_type": "code",
      "metadata": {
        "id": "QP85-yEvB50y",
        "colab_type": "code",
        "outputId": "02e4a151-e73d-4be1-eb43-fc59190db639",
        "colab": {
          "base_uri": "https://localhost:8080/",
          "height": 296
        }
      },
      "source": [
        "df2 = df.groupby('Id').count().sort_values(by='Image',ascending=False).reset_index()\n",
        "plt.plot(df2['Image'][1:],c='grey')\n",
        "plt.xlabel('Whale Id')\n",
        "plt.ylabel('Numbers')"
      ],
      "execution_count": 0,
      "outputs": [
        {
          "output_type": "execute_result",
          "data": {
            "text/plain": [
              "Text(0, 0.5, 'Numbers')"
            ]
          },
          "metadata": {
            "tags": []
          },
          "execution_count": 7
        },
        {
          "output_type": "display_data",
          "data": {
            "image/png": "[encoded data removed]",
            "text/plain": [
              "<Figure size 432x288 with 1 Axes>"
            ]
          },
          "metadata": {
            "tags": []
          }
        }
      ]
    },
    {
      "cell_type": "code",
      "metadata": {
        "id": "rXcE3sFEB7T8",
        "colab_type": "code",
        "outputId": "99e73843-1815-472a-9f3d-c4a098ecf926",
        "colab": {
          "base_uri": "https://localhost:8080/",
          "height": 34
        }
      },
      "source": [
        "len(df2[df2['Image']<10])/len(df2)"
      ],
      "execution_count": 0,
      "outputs": [
        {
          "output_type": "execute_result",
          "data": {
            "text/plain": [
              "0.9452547452547453"
            ]
          },
          "metadata": {
            "tags": []
          },
          "execution_count": 8
        }
      ]
    },
    {
      "cell_type": "code",
      "metadata": {
        "id": "B76EJ8ZzB83G",
        "colab_type": "code",
        "outputId": "394af67b-83e6-4351-fca5-da8346974d14",
        "colab": {
          "base_uri": "https://localhost:8080/",
          "height": 34
        }
      },
      "source": [
        "df2['Image'][0]/df2['Image'].sum()"
      ],
      "execution_count": 0,
      "outputs": [
        {
          "output_type": "execute_result",
          "data": {
            "text/plain": [
              "0.3810575292772367"
            ]
          },
          "metadata": {
            "tags": []
          },
          "execution_count": 9
        }
      ]
    },
    {
      "cell_type": "code",
      "metadata": {
        "id": "fgPLABMMhxUW",
        "colab_type": "code",
        "colab": {}
      },
      "source": [
        "TRAIN =\"train\"\n",
        "TEST = \"test\"\n",
        "LABELS = \"train.csv\"\n",
        "SUB = \"sample_submission.csv\"\n",
        "\n",
        "IMG_SIZE = 200\n",
        "\n",
        "\n",
        "def text2number(LABELS):\n",
        "    df = pd.read_csv(LABELS)\n",
        "    \n",
        "    uni_labels = pd.DataFrame(df['Id'].unique(),columns=['Id'])\n",
        "    uni_labels.index.name = 'ID_new'\n",
        "    uni_labels = uni_labels.reset_index()\n",
        "\n",
        "\n",
        "    df = df.merge(uni_labels,on='Id')\n",
        "    \n",
        "    return df\n",
        "    \n",
        "#submit = [p for _, p, _ in pd.read_csv(SUB).to_records()]\n",
        "#join = list(tagged.keys()) + submit\n",
        "df = text2number(LABELS)\n",
        "\n",
        "tagged = dict([(p, w) for _, p,_, w in df.to_records()])"
      ],
      "execution_count": 0,
      "outputs": []
    },
    {
      "cell_type": "code",
      "metadata": {
        "colab_type": "code",
        "outputId": "9d0bc217-7806-473b-87f8-b8635e81aaf0",
        "id": "nh5oyAivDuoq",
        "colab": {
          "base_uri": "https://localhost:8080/",
          "height": 145
        }
      },
      "source": [
        "path = os.path.abspath(TRAIN)\n",
        "for img in os.listdir(path):\n",
        "    img_array = cv2.imread(os.path.join(path,img),cv2.IMREAD_GRAYSCALE)\n",
        "    print(img)\n",
        "    plt.imshow(img_array,cmap='gray')\n",
        "    plt.show()\n",
        "    break"
      ],
      "execution_count": 0,
      "outputs": [
        {
          "output_type": "stream",
          "text": [
            "9c2ad64a9.jpg\n"
          ],
          "name": "stdout"
        },
        {
          "output_type": "display_data",
          "data": {
            "image/png": "[encoded data removed]",
            "text/plain": [
              "<Figure size 432x288 with 1 Axes>"
            ]
          },
          "metadata": {
            "tags": []
          }
        }
      ]
    },
    {
      "cell_type": "code",
      "metadata": {
        "id": "E9FydDNsB_oj",
        "colab_type": "code",
        "outputId": "8480a3ed-848c-4381-c5c2-bbc36370c6b7",
        "colab": {
          "base_uri": "https://localhost:8080/",
          "height": 34
        }
      },
      "source": [
        "print(img_array.shape)"
      ],
      "execution_count": 0,
      "outputs": [
        {
          "output_type": "stream",
          "text": [
            "(239, 1050)\n"
          ],
          "name": "stdout"
        }
      ]
    },
    {
      "cell_type": "code",
      "metadata": {
        "id": "x_xyFtSeCHZa",
        "colab_type": "code",
        "outputId": "87ff993b-bd70-4aa8-aefa-e635fed396e5",
        "colab": {
          "base_uri": "https://localhost:8080/",
          "height": 269
        }
      },
      "source": [
        "IMG_SIZE = 200\n",
        "\n",
        "new_array = cv2.resize(img_array,(IMG_SIZE, IMG_SIZE))\n",
        "plt.imshow(new_array,cmap='gray')\n",
        "plt.show()"
      ],
      "execution_count": 0,
      "outputs": [
        {
          "output_type": "display_data",
          "data": {
            "image/png": "[encoded data removed]",
            "text/plain": [
              "<Figure size 432x288 with 1 Axes>"
            ]
          },
          "metadata": {
            "tags": []
          }
        }
      ]
    },
    {
      "cell_type": "code",
      "metadata": {
        "id": "6yKRdUAgCJGF",
        "colab_type": "code",
        "outputId": "4600521e-827c-4ad6-8b1f-fd21843a56f4",
        "colab": {
          "base_uri": "https://localhost:8080/",
          "height": 136
        }
      },
      "source": [
        "pd.read_csv(LABELS).to_records()"
      ],
      "execution_count": 0,
      "outputs": [
        {
          "output_type": "execute_result",
          "data": {
            "text/plain": [
              "rec.array([(    0, '0000e88ab.jpg', 'w_f48451c'),\n",
              "           (    1, '0001f9222.jpg', 'w_c3d896a'),\n",
              "           (    2, '00029d126.jpg', 'w_20df2c5'), ...,\n",
              "           (25358, 'fff9002e0.jpg', 'w_bd1c3d5'),\n",
              "           (25359, 'fffcde6fe.jpg', 'w_9f30885'),\n",
              "           (25360, 'fffde072b.jpg', 'new_whale')],\n",
              "          dtype=[('index', '<i8'), ('Image', 'O'), ('Id', 'O')])"
            ]
          },
          "metadata": {
            "tags": []
          },
          "execution_count": 14
        }
      ]
    },
    {
      "cell_type": "code",
      "metadata": {
        "id": "tbjt4GFbCK3H",
        "colab_type": "code",
        "colab": {}
      },
      "source": [
        ""
      ],
      "execution_count": 0,
      "outputs": []
    },
    {
      "cell_type": "code",
      "metadata": {
        "id": "PlMUB4VdCP7R",
        "colab_type": "code",
        "outputId": "979d6d48-cb2e-4559-833f-60d557b6bb13",
        "colab": {
          "base_uri": "https://localhost:8080/",
          "height": 204
        }
      },
      "source": [
        "df.head()"
      ],
      "execution_count": 0,
      "outputs": [
        {
          "output_type": "execute_result",
          "data": {
            "text/html": [
              "<div>\n",
              "<style scoped>\n",
              "    .dataframe tbody tr th:only-of-type {\n",
              "        vertical-align: middle;\n",
              "    }\n",
              "\n",
              "    .dataframe tbody tr th {\n",
              "        vertical-align: top;\n",
              "    }\n",
              "\n",
              "    .dataframe thead th {\n",
              "        text-align: right;\n",
              "    }\n",
              "</style>\n",
              "<table border=\"1\" class=\"dataframe\">\n",
              "  <thead>\n",
              "    <tr style=\"text-align: right;\">\n",
              "      <th></th>\n",
              "      <th>Image</th>\n",
              "      <th>Id</th>\n",
              "      <th>ID_new</th>\n",
              "    </tr>\n",
              "  </thead>\n",
              "  <tbody>\n",
              "    <tr>\n",
              "      <th>0</th>\n",
              "      <td>0000e88ab.jpg</td>\n",
              "      <td>w_f48451c</td>\n",
              "      <td>0</td>\n",
              "    </tr>\n",
              "    <tr>\n",
              "      <th>1</th>\n",
              "      <td>0af805558.jpg</td>\n",
              "      <td>w_f48451c</td>\n",
              "      <td>0</td>\n",
              "    </tr>\n",
              "    <tr>\n",
              "      <th>2</th>\n",
              "      <td>1c351b88e.jpg</td>\n",
              "      <td>w_f48451c</td>\n",
              "      <td>0</td>\n",
              "    </tr>\n",
              "    <tr>\n",
              "      <th>3</th>\n",
              "      <td>6f7abb1be.jpg</td>\n",
              "      <td>w_f48451c</td>\n",
              "      <td>0</td>\n",
              "    </tr>\n",
              "    <tr>\n",
              "      <th>4</th>\n",
              "      <td>77a44bf94.jpg</td>\n",
              "      <td>w_f48451c</td>\n",
              "      <td>0</td>\n",
              "    </tr>\n",
              "  </tbody>\n",
              "</table>\n",
              "</div>"
            ],
            "text/plain": [
              "           Image         Id  ID_new\n",
              "0  0000e88ab.jpg  w_f48451c       0\n",
              "1  0af805558.jpg  w_f48451c       0\n",
              "2  1c351b88e.jpg  w_f48451c       0\n",
              "3  6f7abb1be.jpg  w_f48451c       0\n",
              "4  77a44bf94.jpg  w_f48451c       0"
            ]
          },
          "metadata": {
            "tags": []
          },
          "execution_count": 15
        }
      ]
    },
    {
      "cell_type": "code",
      "metadata": {
        "id": "FAGakdKoCRoO",
        "colab_type": "code",
        "colab": {}
      },
      "source": [
        "df.to_csv('index_tag.csv')"
      ],
      "execution_count": 0,
      "outputs": []
    },
    {
      "cell_type": "code",
      "metadata": {
        "id": "DDMs84-8gW1U",
        "colab_type": "code",
        "colab": {}
      },
      "source": [
        "import numpy as np \n",
        "import pandas as pd \n",
        "import os\n",
        "import matplotlib.pyplot as plt\n",
        "import matplotlib.image as mplimg\n",
        "from matplotlib.pyplot import imshow\n",
        "\n",
        "from sklearn.preprocessing import LabelEncoder\n",
        "from sklearn.preprocessing import OneHotEncoder\n",
        "\n",
        "from keras import layers\n",
        "from keras.preprocessing import image\n",
        "from keras.applications.imagenet_utils import preprocess_input\n",
        "from keras.layers import Input, Dense, Activation, BatchNormalization, Flatten, Conv2D\n",
        "from keras.layers import AveragePooling2D, MaxPooling2D, Dropout\n",
        "from keras.models import Model\n",
        "\n",
        "import keras.backend as K\n",
        "from keras.models import Sequential\n",
        "\n",
        "import warnings\n",
        "warnings.simplefilter(\"ignore\", category=DeprecationWarning)"
      ],
      "execution_count": 0,
      "outputs": []
    },
    {
      "cell_type": "code",
      "metadata": {
        "id": "YiqOo9EjCTox",
        "colab_type": "code",
        "colab": {}
      },
      "source": [
        "def create_training_data():\n",
        "    count = 1\n",
        "    training_data = []\n",
        "    class_num = []\n",
        "    for img in os.listdir(path):\n",
        "        try:\n",
        "            img_array = cv2.imread(os.path.join(path,img),cv2.IMREAD_GRAYSCALE)\n",
        "            new_array = cv2.resize(img_array,(IMG_SIZE, IMG_SIZE))\n",
        "            class_num = tagged[img]\n",
        "            training_data.append([new_array,class_num])\n",
        "            count += 1\n",
        "        except Exception as e:\n",
        "            pass           \n",
        "        \n",
        "    return training_data\n",
        "    \n",
        "train_data = create_training_data()"
      ],
      "execution_count": 0,
      "outputs": []
    },
    {
      "cell_type": "code",
      "metadata": {
        "id": "TasSiQn1cPKV",
        "colab_type": "code",
        "outputId": "cf96dbbe-9d5d-465a-b979-e56d3b420307",
        "colab": {
          "base_uri": "https://localhost:8080/",
          "height": 612
        }
      },
      "source": [
        "train_data[:5]"
      ],
      "execution_count": 0,
      "outputs": [
        {
          "output_type": "execute_result",
          "data": {
            "text/plain": [
              "[[array([[254, 254, 254, ..., 254, 254, 254],\n",
              "         [255, 255, 255, ..., 255, 255, 255],\n",
              "         [255, 255, 255, ..., 255, 255, 255],\n",
              "         ...,\n",
              "         [248, 246, 246, ..., 254, 252, 253],\n",
              "         [248, 246, 244, ..., 253, 253, 254],\n",
              "         [245, 245, 243, ..., 252, 252, 250]], dtype=uint8), 572],\n",
              " [array([[139, 139, 138, ..., 171, 168, 167],\n",
              "         [138, 143, 145, ..., 178, 175, 176],\n",
              "         [139, 139, 151, ..., 176, 174, 177],\n",
              "         ...,\n",
              "         [229, 195, 167, ..., 136, 146, 150],\n",
              "         [225, 208, 172, ..., 111, 124, 155],\n",
              "         [225, 217, 202, ...,  96,  97, 152]], dtype=uint8), 763],\n",
              " [array([[126, 128, 162, ..., 109, 123, 133],\n",
              "         [138, 124, 135, ...,  83, 108, 139],\n",
              "         [141, 122, 121, ...,  61,  79, 113],\n",
              "         ...,\n",
              "         [ 39,  48,  64, ...,  44,  44,  42],\n",
              "         [ 41,  45,  55, ...,  55,  54,  61],\n",
              "         [ 47,  48,  55, ...,  67,  72,  71]], dtype=uint8), 3],\n",
              " [array([[ 94,  98,  97, ...,  79,  88,  95],\n",
              "         [ 86,  90,  99, ...,  87,  92,  93],\n",
              "         [ 84,  83,  91, ...,  90,  94,  91],\n",
              "         ...,\n",
              "         [ 76,  72,  63, ...,  50,  51,  62],\n",
              "         [101,  88,  82, ...,  74,  65,  84],\n",
              "         [ 97,  96, 102, ...,  79,  75,  82]], dtype=uint8), 1996],\n",
              " [array([[156, 152, 130, ..., 138, 131, 141],\n",
              "         [167, 156, 142, ..., 149, 158, 151],\n",
              "         [165, 158, 145, ..., 156, 156, 163],\n",
              "         ...,\n",
              "         [ 95,  90,  93, ..., 125, 131, 132],\n",
              "         [102, 129, 121, ..., 144, 147, 172],\n",
              "         [121, 117, 140, ..., 183, 162, 151]], dtype=uint8), 3]]"
            ]
          },
          "metadata": {
            "tags": []
          },
          "execution_count": 22
        }
      ]
    },
    {
      "cell_type": "code",
      "metadata": {
        "id": "TQRwdNc8CVL9",
        "colab_type": "code",
        "colab": {}
      },
      "source": [
        "def prepareImages(data, m, dataset):\n",
        "    print(\"Preparing images\")\n",
        "    X_train = np.zeros((m, 100, 100, 3))\n",
        "    count = 0\n",
        "    \n",
        "    for fig in data['Image']:\n",
        "        #load images into images of size 100x100x3\n",
        "        img = image.load_img(dataset+\"/\"+fig, target_size=(100, 100, 3))\n",
        "        x = image.img_to_array(img)\n",
        "        x = preprocess_input(x)\n",
        "\n",
        "        X_train[count] = x\n",
        "        if (count%500 == 0):\n",
        "            print(\"Processing image: \", count+1, \", \", fig)\n",
        "        count += 1\n",
        "    \n",
        "    return X_train "
      ],
      "execution_count": 0,
      "outputs": []
    },
    {
      "cell_type": "code",
      "metadata": {
        "id": "U8IE1l14Gu0N",
        "colab_type": "code",
        "colab": {}
      },
      "source": [
        "def prepare_labels(y):\n",
        "    values = np.array(y)\n",
        "    label_encoder = LabelEncoder()\n",
        "    integer_encoded = label_encoder.fit_transform(values)\n",
        "    # print(integer_encoded)\n",
        "\n",
        "    onehot_encoder = OneHotEncoder(sparse=False)\n",
        "    integer_encoded = integer_encoded.reshape(len(integer_encoded), 1)\n",
        "    onehot_encoded = onehot_encoder.fit_transform(integer_encoded)\n",
        "    # print(onehot_encoded)\n",
        "\n",
        "    y = onehot_encoded\n",
        "    # print(y.shape)\n",
        "    return y, label_encoder"
      ],
      "execution_count": 0,
      "outputs": []
    },
    {
      "cell_type": "code",
      "metadata": {
        "id": "va45uDDyG4bK",
        "colab_type": "code",
        "outputId": "1c0270f3-e927-495f-907c-344aa05058f5",
        "colab": {
          "base_uri": "https://localhost:8080/",
          "height": 901
        }
      },
      "source": [
        "\n",
        "X = prepareImages(df, df.shape[0], \"train\")\n",
        "X /= 255"
      ],
      "execution_count": 0,
      "outputs": [
        {
          "output_type": "stream",
          "text": [
            "Preparing images\n",
            "Processing image:  1 ,  0000e88ab.jpg\n",
            "Processing image:  501 ,  0baa89964.jpg\n",
            "Processing image:  1001 ,  1984f2d9f.jpg\n",
            "Processing image:  1501 ,  26e271ca5.jpg\n",
            "Processing image:  2001 ,  34481f22e.jpg\n",
            "Processing image:  2501 ,  4110e4a11.jpg\n",
            "Processing image:  3001 ,  4dd7de9b0.jpg\n",
            "Processing image:  3501 ,  5a98812a7.jpg\n",
            "Processing image:  4001 ,  68a4ff4e2.jpg\n",
            "Processing image:  4501 ,  75f1368d1.jpg\n",
            "Processing image:  5001 ,  828a0641d.jpg\n",
            "Processing image:  5501 ,  8fdecbd92.jpg\n",
            "Processing image:  6001 ,  9c9fd59ef.jpg\n",
            "Processing image:  6501 ,  a93955ecc.jpg\n",
            "Processing image:  7001 ,  b665f5243.jpg\n",
            "Processing image:  7501 ,  c4ecb125f.jpg\n",
            "Processing image:  8001 ,  d2b5789f2.jpg\n",
            "Processing image:  8501 ,  df15cc35a.jpg\n",
            "Processing image:  9001 ,  ed38599c2.jpg\n",
            "Processing image:  9501 ,  fa9699838.jpg\n",
            "Processing image:  10001 ,  5eb83a49f.jpg\n",
            "Processing image:  10501 ,  e9ac41eae.jpg\n",
            "Processing image:  11001 ,  60fd46031.jpg\n",
            "Processing image:  11501 ,  b17668b8c.jpg\n",
            "Processing image:  12001 ,  c99b26f91.jpg\n",
            "Processing image:  12501 ,  2669fa8f7.jpg\n",
            "Processing image:  13001 ,  c4d535ab2.jpg\n",
            "Processing image:  13501 ,  11835e311.jpg\n",
            "Processing image:  14001 ,  c8f5f98d1.jpg\n",
            "Processing image:  14501 ,  f67ca6128.jpg\n",
            "Processing image:  15001 ,  e109a3fd9.jpg\n",
            "Processing image:  15501 ,  b3c0e0383.jpg\n",
            "Processing image:  16001 ,  837a5764d.jpg\n",
            "Processing image:  16501 ,  1738e0af6.jpg\n",
            "Processing image:  17001 ,  d884e3dc2.jpg\n",
            "Processing image:  17501 ,  2fd41857f.jpg\n",
            "Processing image:  18001 ,  227283ca0.jpg\n",
            "Processing image:  18501 ,  6d053e4a4.jpg\n",
            "Processing image:  19001 ,  96dd85f60.jpg\n",
            "Processing image:  19501 ,  b91b70b60.jpg\n",
            "Processing image:  20001 ,  bf14686c7.jpg\n",
            "Processing image:  20501 ,  47289a3a7.jpg\n",
            "Processing image:  21001 ,  47b1dd8b5.jpg\n",
            "Processing image:  21501 ,  f8c0e508e.jpg\n",
            "Processing image:  22001 ,  c422c89b2.jpg\n",
            "Processing image:  22501 ,  6773a9e16.jpg\n",
            "Processing image:  23001 ,  adce4064c.jpg\n",
            "Processing image:  23501 ,  87598a765.jpg\n",
            "Processing image:  24001 ,  992015351.jpg\n",
            "Processing image:  24501 ,  b37bb22c9.jpg\n",
            "Processing image:  25001 ,  d87476d78.jpg\n"
          ],
          "name": "stdout"
        }
      ]
    },
    {
      "cell_type": "code",
      "metadata": {
        "id": "LGUGqt7YHIb6",
        "colab_type": "code",
        "outputId": "67f1a03f-6680-49c4-c5c2-537391c086de",
        "colab": {
          "base_uri": "https://localhost:8080/",
          "height": 105
        }
      },
      "source": [
        "y, label_encoder = prepare_labels(df['Id'])"
      ],
      "execution_count": 0,
      "outputs": [
        {
          "output_type": "stream",
          "text": [
            "/usr/local/lib/python3.6/dist-packages/sklearn/preprocessing/_encoders.py:415: FutureWarning: The handling of integer data will change in version 0.22. Currently, the categories are determined based on the range [0, max(values)], while in the future they will be determined based on the unique values.\n",
            "If you want the future behaviour and silence this warning, you can specify \"categories='auto'\".\n",
            "In case you used a LabelEncoder before this OneHotEncoder to convert the categories to integers, then you can now use the OneHotEncoder directly.\n",
            "  warnings.warn(msg, FutureWarning)\n"
          ],
          "name": "stderr"
        }
      ]
    },
    {
      "cell_type": "code",
      "metadata": {
        "id": "b1ssaEj8b6sh",
        "colab_type": "code",
        "outputId": "ad949093-f924-4a34-f432-e2108f8f072b",
        "colab": {
          "base_uri": "https://localhost:8080/",
          "height": 136
        }
      },
      "source": [
        "y"
      ],
      "execution_count": 0,
      "outputs": [
        {
          "output_type": "execute_result",
          "data": {
            "text/plain": [
              "array([[0., 0., 0., ..., 0., 0., 0.],\n",
              "       [0., 0., 0., ..., 0., 0., 0.],\n",
              "       [0., 0., 0., ..., 0., 0., 0.],\n",
              "       ...,\n",
              "       [0., 0., 0., ..., 0., 0., 0.],\n",
              "       [0., 0., 0., ..., 0., 0., 0.],\n",
              "       [0., 0., 0., ..., 0., 0., 0.]])"
            ]
          },
          "metadata": {
            "tags": []
          },
          "execution_count": 27
        }
      ]
    },
    {
      "cell_type": "code",
      "metadata": {
        "id": "3u3JSXc4j-rY",
        "colab_type": "code",
        "outputId": "629f24db-6913-4b64-a87f-d80abcbeb352",
        "colab": {
          "base_uri": "https://localhost:8080/",
          "height": 1000
        }
      },
      "source": [
        "model = Sequential()\n",
        "\n",
        "model.add(Conv2D(32, (7, 7), strides = (1, 1), name = 'conv0', input_shape = (100, 100, 3)))\n",
        "\n",
        "model.add(BatchNormalization(axis = 3, name = 'bn0'))\n",
        "model.add(Activation('relu'))\n",
        "\n",
        "model.add(MaxPooling2D((2, 2), name='max_pool'))\n",
        "model.add(Conv2D(64, (3, 3), strides = (1,1), name=\"conv1\"))\n",
        "model.add(Activation('relu'))\n",
        "model.add(AveragePooling2D((3, 3), name='avg_pool'))\n",
        "\n",
        "model.add(Flatten())\n",
        "model.add(Dense(500, activation=\"relu\", name='rl'))\n",
        "model.add(Dropout(0.8))\n",
        "model.add(Dense(y.shape[1], activation='softmax', name='sm'))\n",
        "\n",
        "model.compile(loss='categorical_crossentropy', optimizer=\"adam\", metrics=['accuracy'])\n",
        "model.summary()"
      ],
      "execution_count": 0,
      "outputs": [
        {
          "output_type": "stream",
          "text": [
            "WARNING:tensorflow:From /usr/local/lib/python3.6/dist-packages/keras/backend/tensorflow_backend.py:66: The name tf.get_default_graph is deprecated. Please use tf.compat.v1.get_default_graph instead.\n",
            "\n",
            "WARNING:tensorflow:From /usr/local/lib/python3.6/dist-packages/keras/backend/tensorflow_backend.py:541: The name tf.placeholder is deprecated. Please use tf.compat.v1.placeholder instead.\n",
            "\n",
            "WARNING:tensorflow:From /usr/local/lib/python3.6/dist-packages/keras/backend/tensorflow_backend.py:4432: The name tf.random_uniform is deprecated. Please use tf.random.uniform instead.\n",
            "\n",
            "WARNING:tensorflow:From /usr/local/lib/python3.6/dist-packages/keras/backend/tensorflow_backend.py:190: The name tf.get_default_session is deprecated. Please use tf.compat.v1.get_default_session instead.\n",
            "\n",
            "WARNING:tensorflow:From /usr/local/lib/python3.6/dist-packages/keras/backend/tensorflow_backend.py:197: The name tf.ConfigProto is deprecated. Please use tf.compat.v1.ConfigProto instead.\n",
            "\n",
            "WARNING:tensorflow:From /usr/local/lib/python3.6/dist-packages/keras/backend/tensorflow_backend.py:203: The name tf.Session is deprecated. Please use tf.compat.v1.Session instead.\n",
            "\n",
            "WARNING:tensorflow:From /usr/local/lib/python3.6/dist-packages/keras/backend/tensorflow_backend.py:207: The name tf.global_variables is deprecated. Please use tf.compat.v1.global_variables instead.\n",
            "\n",
            "WARNING:tensorflow:From /usr/local/lib/python3.6/dist-packages/keras/backend/tensorflow_backend.py:216: The name tf.is_variable_initialized is deprecated. Please use tf.compat.v1.is_variable_initialized instead.\n",
            "\n",
            "WARNING:tensorflow:From /usr/local/lib/python3.6/dist-packages/keras/backend/tensorflow_backend.py:223: The name tf.variables_initializer is deprecated. Please use tf.compat.v1.variables_initializer instead.\n",
            "\n",
            "WARNING:tensorflow:From /usr/local/lib/python3.6/dist-packages/keras/backend/tensorflow_backend.py:2041: The name tf.nn.fused_batch_norm is deprecated. Please use tf.compat.v1.nn.fused_batch_norm instead.\n",
            "\n",
            "WARNING:tensorflow:From /usr/local/lib/python3.6/dist-packages/keras/backend/tensorflow_backend.py:148: The name tf.placeholder_with_default is deprecated. Please use tf.compat.v1.placeholder_with_default instead.\n",
            "\n",
            "WARNING:tensorflow:From /usr/local/lib/python3.6/dist-packages/keras/backend/tensorflow_backend.py:4267: The name tf.nn.max_pool is deprecated. Please use tf.nn.max_pool2d instead.\n",
            "\n",
            "WARNING:tensorflow:From /usr/local/lib/python3.6/dist-packages/keras/backend/tensorflow_backend.py:4271: The name tf.nn.avg_pool is deprecated. Please use tf.nn.avg_pool2d instead.\n",
            "\n",
            "WARNING:tensorflow:From /usr/local/lib/python3.6/dist-packages/keras/backend/tensorflow_backend.py:3733: calling dropout (from tensorflow.python.ops.nn_ops) with keep_prob is deprecated and will be removed in a future version.\n",
            "Instructions for updating:\n",
            "Please use `rate` instead of `keep_prob`. Rate should be set to `rate = 1 - keep_prob`.\n",
            "WARNING:tensorflow:Large dropout rate: 0.8 (>0.5). In TensorFlow 2.x, dropout() uses dropout rate instead of keep_prob. Please ensure that this is intended.\n",
            "WARNING:tensorflow:From /usr/local/lib/python3.6/dist-packages/keras/optimizers.py:793: The name tf.train.Optimizer is deprecated. Please use tf.compat.v1.train.Optimizer instead.\n",
            "\n",
            "WARNING:tensorflow:From /usr/local/lib/python3.6/dist-packages/keras/backend/tensorflow_backend.py:3576: The name tf.log is deprecated. Please use tf.math.log instead.\n",
            "\n",
            "Model: \"sequential_1\"\n",
            "_________________________________________________________________\n",
            "Layer (type)                 Output Shape              Param #   \n",
            "=================================================================\n",
            "conv0 (Conv2D)               (None, 94, 94, 32)        4736      \n",
            "_________________________________________________________________\n",
            "bn0 (BatchNormalization)     (None, 94, 94, 32)        128       \n",
            "_________________________________________________________________\n",
            "activation_1 (Activation)    (None, 94, 94, 32)        0         \n",
            "_________________________________________________________________\n",
            "max_pool (MaxPooling2D)      (None, 47, 47, 32)        0         \n",
            "_________________________________________________________________\n",
            "conv1 (Conv2D)               (None, 45, 45, 64)        18496     \n",
            "_________________________________________________________________\n",
            "activation_2 (Activation)    (None, 45, 45, 64)        0         \n",
            "_________________________________________________________________\n",
            "avg_pool (AveragePooling2D)  (None, 15, 15, 64)        0         \n",
            "_________________________________________________________________\n",
            "flatten_1 (Flatten)          (None, 14400)             0         \n",
            "_________________________________________________________________\n",
            "rl (Dense)                   (None, 500)               7200500   \n",
            "_________________________________________________________________\n",
            "dropout_1 (Dropout)          (None, 500)               0         \n",
            "_________________________________________________________________\n",
            "sm (Dense)                   (None, 5005)              2507505   \n",
            "=================================================================\n",
            "Total params: 9,731,365\n",
            "Trainable params: 9,731,301\n",
            "Non-trainable params: 64\n",
            "_________________________________________________________________\n"
          ],
          "name": "stdout"
        }
      ]
    },
    {
      "cell_type": "code",
      "metadata": {
        "id": "0q6x_cpQiuYE",
        "colab_type": "code",
        "outputId": "519eae05-8ae7-46f0-a37a-c298c959222c",
        "colab": {
          "base_uri": "https://localhost:8080/",
          "height": 1000
        }
      },
      "source": [
        "history = model.fit(X, y, epochs=100, batch_size=100, verbose=1)\n",
        "#gc.collect()"
      ],
      "execution_count": 0,
      "outputs": [
        {
          "output_type": "stream",
          "text": [
            "WARNING:tensorflow:From /usr/local/lib/python3.6/dist-packages/tensorflow_core/python/ops/math_grad.py:1424: where (from tensorflow.python.ops.array_ops) is deprecated and will be removed in a future version.\n",
            "Instructions for updating:\n",
            "Use tf.where in 2.0, which has the same broadcast rule as np.where\n",
            "WARNING:tensorflow:From /usr/local/lib/python3.6/dist-packages/keras/backend/tensorflow_backend.py:1033: The name tf.assign_add is deprecated. Please use tf.compat.v1.assign_add instead.\n",
            "\n",
            "WARNING:tensorflow:From /usr/local/lib/python3.6/dist-packages/keras/backend/tensorflow_backend.py:1020: The name tf.assign is deprecated. Please use tf.compat.v1.assign instead.\n",
            "\n",
            "Epoch 1/100\n",
            "25361/25361 [==============================] - 15s 593us/step - loss: 6.1884 - acc: 0.3794\n",
            "Epoch 2/100\n",
            "25361/25361 [==============================] - 10s 398us/step - loss: 5.8912 - acc: 0.3811\n",
            "Epoch 3/100\n",
            "25361/25361 [==============================] - 10s 396us/step - loss: 5.7781 - acc: 0.3811\n",
            "Epoch 4/100\n",
            "25361/25361 [==============================] - 10s 397us/step - loss: 5.7182 - acc: 0.3811\n",
            "Epoch 5/100\n",
            "25361/25361 [==============================] - 10s 403us/step - loss: 5.6974 - acc: 0.3811\n",
            "Epoch 6/100\n",
            "25361/25361 [==============================] - 10s 399us/step - loss: 5.6642 - acc: 0.3811\n",
            "Epoch 7/100\n",
            "25361/25361 [==============================] - 10s 396us/step - loss: 5.6324 - acc: 0.3811\n",
            "Epoch 8/100\n",
            "25361/25361 [==============================] - 10s 397us/step - loss: 5.5977 - acc: 0.3811\n",
            "Epoch 9/100\n",
            "25361/25361 [==============================] - 10s 396us/step - loss: 5.5497 - acc: 0.3811\n",
            "Epoch 10/100\n",
            "25361/25361 [==============================] - 10s 400us/step - loss: 5.5079 - acc: 0.3811\n",
            "Epoch 11/100\n",
            "25361/25361 [==============================] - 10s 397us/step - loss: 5.4544 - acc: 0.3811\n",
            "Epoch 12/100\n",
            "25361/25361 [==============================] - 10s 397us/step - loss: 5.3858 - acc: 0.3811\n",
            "Epoch 13/100\n",
            "25361/25361 [==============================] - 10s 404us/step - loss: 5.3179 - acc: 0.3811\n",
            "Epoch 14/100\n",
            "25361/25361 [==============================] - 10s 405us/step - loss: 5.2182 - acc: 0.3811\n",
            "Epoch 15/100\n",
            "25361/25361 [==============================] - 10s 405us/step - loss: 5.1300 - acc: 0.3811\n",
            "Epoch 16/100\n",
            "25361/25361 [==============================] - 10s 404us/step - loss: 5.0276 - acc: 0.3811\n",
            "Epoch 17/100\n",
            "25361/25361 [==============================] - 10s 402us/step - loss: 4.9077 - acc: 0.3811\n",
            "Epoch 18/100\n",
            "25361/25361 [==============================] - 10s 407us/step - loss: 4.7607 - acc: 0.3811\n",
            "Epoch 19/100\n",
            "25361/25361 [==============================] - 10s 402us/step - loss: 4.5867 - acc: 0.3814\n",
            "Epoch 20/100\n",
            "25361/25361 [==============================] - 10s 405us/step - loss: 4.4102 - acc: 0.3830\n",
            "Epoch 21/100\n",
            "25361/25361 [==============================] - 10s 409us/step - loss: 4.1969 - acc: 0.3861\n",
            "Epoch 22/100\n",
            "25361/25361 [==============================] - 10s 404us/step - loss: 3.9766 - acc: 0.3926\n",
            "Epoch 23/100\n",
            "25361/25361 [==============================] - 10s 403us/step - loss: 3.7103 - acc: 0.4033\n",
            "Epoch 24/100\n",
            "25361/25361 [==============================] - 10s 402us/step - loss: 3.4869 - acc: 0.4151\n",
            "Epoch 25/100\n",
            "25361/25361 [==============================] - 10s 401us/step - loss: 3.2365 - acc: 0.4315\n",
            "Epoch 26/100\n",
            "25361/25361 [==============================] - 10s 403us/step - loss: 2.9965 - acc: 0.4532\n",
            "Epoch 27/100\n",
            "25361/25361 [==============================] - 10s 401us/step - loss: 2.7776 - acc: 0.4706\n",
            "Epoch 28/100\n",
            "25361/25361 [==============================] - 10s 401us/step - loss: 2.5987 - acc: 0.4898\n",
            "Epoch 29/100\n",
            "25361/25361 [==============================] - 10s 405us/step - loss: 2.4176 - acc: 0.5145\n",
            "Epoch 30/100\n",
            "25361/25361 [==============================] - 10s 403us/step - loss: 2.2458 - acc: 0.5387\n",
            "Epoch 31/100\n",
            "25361/25361 [==============================] - 10s 401us/step - loss: 2.1063 - acc: 0.5531\n",
            "Epoch 32/100\n",
            "25361/25361 [==============================] - 10s 404us/step - loss: 1.9450 - acc: 0.5822\n",
            "Epoch 33/100\n",
            "25361/25361 [==============================] - 10s 403us/step - loss: 1.8058 - acc: 0.5997\n",
            "Epoch 34/100\n",
            "25361/25361 [==============================] - 10s 403us/step - loss: 1.7049 - acc: 0.6135\n",
            "Epoch 35/100\n",
            "25361/25361 [==============================] - 10s 401us/step - loss: 1.6041 - acc: 0.6381\n",
            "Epoch 36/100\n",
            "25361/25361 [==============================] - 10s 402us/step - loss: 1.5055 - acc: 0.6525\n",
            "Epoch 37/100\n",
            "25361/25361 [==============================] - 10s 403us/step - loss: 1.4274 - acc: 0.6665\n",
            "Epoch 38/100\n",
            "25361/25361 [==============================] - 10s 404us/step - loss: 1.3701 - acc: 0.6786\n",
            "Epoch 39/100\n",
            "25361/25361 [==============================] - 10s 403us/step - loss: 1.2812 - acc: 0.6950\n",
            "Epoch 40/100\n",
            "25361/25361 [==============================] - 10s 401us/step - loss: 1.2374 - acc: 0.7037\n",
            "Epoch 41/100\n",
            "25361/25361 [==============================] - 10s 401us/step - loss: 1.1668 - acc: 0.7180\n",
            "Epoch 42/100\n",
            "25361/25361 [==============================] - 10s 402us/step - loss: 1.1239 - acc: 0.7252\n",
            "Epoch 43/100\n",
            "25361/25361 [==============================] - 10s 403us/step - loss: 1.0689 - acc: 0.7349\n",
            "Epoch 44/100\n",
            "25361/25361 [==============================] - 10s 401us/step - loss: 1.0358 - acc: 0.7423\n",
            "Epoch 45/100\n",
            "25361/25361 [==============================] - 10s 403us/step - loss: 1.0036 - acc: 0.7511\n",
            "Epoch 46/100\n",
            "25361/25361 [==============================] - 10s 403us/step - loss: 0.9833 - acc: 0.7563\n",
            "Epoch 47/100\n",
            "25361/25361 [==============================] - 10s 402us/step - loss: 0.9371 - acc: 0.7633\n",
            "Epoch 48/100\n",
            "25361/25361 [==============================] - 10s 402us/step - loss: 0.8958 - acc: 0.7724\n",
            "Epoch 49/100\n",
            "25361/25361 [==============================] - 10s 402us/step - loss: 0.8708 - acc: 0.7788\n",
            "Epoch 50/100\n",
            "25361/25361 [==============================] - 10s 402us/step - loss: 0.8444 - acc: 0.7873\n",
            "Epoch 51/100\n",
            "25361/25361 [==============================] - 10s 407us/step - loss: 0.7996 - acc: 0.7957\n",
            "Epoch 52/100\n",
            "25361/25361 [==============================] - 10s 400us/step - loss: 0.8100 - acc: 0.7944\n",
            "Epoch 53/100\n",
            "25361/25361 [==============================] - 10s 403us/step - loss: 0.7608 - acc: 0.8058\n",
            "Epoch 54/100\n",
            "25361/25361 [==============================] - 10s 404us/step - loss: 0.7252 - acc: 0.8146\n",
            "Epoch 55/100\n",
            "25361/25361 [==============================] - 10s 402us/step - loss: 0.7202 - acc: 0.8142\n",
            "Epoch 56/100\n",
            "25361/25361 [==============================] - 10s 400us/step - loss: 0.7153 - acc: 0.8151\n",
            "Epoch 57/100\n",
            "25361/25361 [==============================] - 10s 401us/step - loss: 0.6724 - acc: 0.8247\n",
            "Epoch 58/100\n",
            "25361/25361 [==============================] - 10s 402us/step - loss: 0.6757 - acc: 0.8237\n",
            "Epoch 59/100\n",
            "25361/25361 [==============================] - 10s 403us/step - loss: 0.6508 - acc: 0.8320\n",
            "Epoch 60/100\n",
            "25361/25361 [==============================] - 10s 402us/step - loss: 0.6362 - acc: 0.8327\n",
            "Epoch 61/100\n",
            "25361/25361 [==============================] - 10s 402us/step - loss: 0.6326 - acc: 0.8342\n",
            "Epoch 62/100\n",
            "25361/25361 [==============================] - 10s 404us/step - loss: 0.6027 - acc: 0.8431\n",
            "Epoch 63/100\n",
            "25361/25361 [==============================] - 10s 403us/step - loss: 0.6054 - acc: 0.8409\n",
            "Epoch 64/100\n",
            "25361/25361 [==============================] - 10s 401us/step - loss: 0.5889 - acc: 0.8455\n",
            "Epoch 65/100\n",
            "25361/25361 [==============================] - 10s 400us/step - loss: 0.5596 - acc: 0.8523\n",
            "Epoch 66/100\n",
            "25361/25361 [==============================] - 10s 401us/step - loss: 0.5573 - acc: 0.8521\n",
            "Epoch 67/100\n",
            "25361/25361 [==============================] - 10s 402us/step - loss: 0.5676 - acc: 0.8521\n",
            "Epoch 68/100\n",
            "25361/25361 [==============================] - 10s 401us/step - loss: 0.5402 - acc: 0.8553\n",
            "Epoch 69/100\n",
            "25361/25361 [==============================] - 10s 400us/step - loss: 0.5449 - acc: 0.8563\n",
            "Epoch 70/100\n",
            "25361/25361 [==============================] - 10s 405us/step - loss: 0.5274 - acc: 0.8591\n",
            "Epoch 71/100\n",
            "25361/25361 [==============================] - 10s 405us/step - loss: 0.4946 - acc: 0.8683\n",
            "Epoch 72/100\n",
            "25361/25361 [==============================] - 10s 401us/step - loss: 0.4983 - acc: 0.8682\n",
            "Epoch 73/100\n",
            "25361/25361 [==============================] - 10s 400us/step - loss: 0.4992 - acc: 0.8676\n",
            "Epoch 74/100\n",
            "25361/25361 [==============================] - 10s 401us/step - loss: 0.4853 - acc: 0.8717\n",
            "Epoch 75/100\n",
            "25361/25361 [==============================] - 10s 401us/step - loss: 0.4727 - acc: 0.8751\n",
            "Epoch 76/100\n",
            "25361/25361 [==============================] - 10s 402us/step - loss: 0.4643 - acc: 0.8745\n",
            "Epoch 77/100\n",
            "25361/25361 [==============================] - 10s 398us/step - loss: 0.4453 - acc: 0.8835\n",
            "Epoch 78/100\n",
            "25361/25361 [==============================] - 10s 406us/step - loss: 0.4455 - acc: 0.8809\n",
            "Epoch 79/100\n",
            "25361/25361 [==============================] - 10s 404us/step - loss: 0.4414 - acc: 0.8814\n",
            "Epoch 80/100\n",
            "25361/25361 [==============================] - 10s 402us/step - loss: 0.4471 - acc: 0.8809\n",
            "Epoch 81/100\n",
            "25361/25361 [==============================] - 10s 400us/step - loss: 0.4402 - acc: 0.8830\n",
            "Epoch 82/100\n",
            "25361/25361 [==============================] - 10s 405us/step - loss: 0.4315 - acc: 0.8849\n",
            "Epoch 83/100\n",
            "25361/25361 [==============================] - 10s 402us/step - loss: 0.4251 - acc: 0.8876\n",
            "Epoch 84/100\n",
            "25361/25361 [==============================] - 10s 402us/step - loss: 0.4238 - acc: 0.8881\n",
            "Epoch 85/100\n",
            "25361/25361 [==============================] - 10s 401us/step - loss: 0.4309 - acc: 0.8835\n",
            "Epoch 86/100\n",
            "25361/25361 [==============================] - 10s 402us/step - loss: 0.4172 - acc: 0.8916\n",
            "Epoch 87/100\n",
            "25361/25361 [==============================] - 10s 404us/step - loss: 0.3979 - acc: 0.8922\n",
            "Epoch 88/100\n",
            "25361/25361 [==============================] - 10s 403us/step - loss: 0.4144 - acc: 0.8924\n",
            "Epoch 89/100\n",
            "25361/25361 [==============================] - 10s 399us/step - loss: 0.4167 - acc: 0.8873\n",
            "Epoch 90/100\n",
            "25361/25361 [==============================] - 10s 401us/step - loss: 0.3771 - acc: 0.8979\n",
            "Epoch 91/100\n",
            "25361/25361 [==============================] - 10s 401us/step - loss: 0.3956 - acc: 0.8944\n",
            "Epoch 92/100\n",
            "25361/25361 [==============================] - 10s 404us/step - loss: 0.3908 - acc: 0.8951\n",
            "Epoch 93/100\n",
            "25361/25361 [==============================] - 10s 401us/step - loss: 0.3772 - acc: 0.8993\n",
            "Epoch 94/100\n",
            "25361/25361 [==============================] - 10s 402us/step - loss: 0.3690 - acc: 0.8995\n",
            "Epoch 95/100\n",
            "25361/25361 [==============================] - 10s 404us/step - loss: 0.3710 - acc: 0.9005\n",
            "Epoch 96/100\n",
            "25361/25361 [==============================] - 10s 404us/step - loss: 0.3712 - acc: 0.9010\n",
            "Epoch 97/100\n",
            "25361/25361 [==============================] - 10s 402us/step - loss: 0.3580 - acc: 0.9032\n",
            "Epoch 98/100\n",
            "25361/25361 [==============================] - 10s 401us/step - loss: 0.3588 - acc: 0.9052\n",
            "Epoch 99/100\n",
            "25361/25361 [==============================] - 10s 403us/step - loss: 0.3579 - acc: 0.9034\n",
            "Epoch 100/100\n",
            "25361/25361 [==============================] - 10s 403us/step - loss: 0.3607 - acc: 0.9050\n"
          ],
          "name": "stdout"
        },
        {
          "output_type": "error",
          "ename": "NameError",
          "evalue": "ignored",
          "traceback": [
            "\u001b[0;31m---------------------------------------------------------------------------\u001b[0m",
            "\u001b[0;31mNameError\u001b[0m                                 Traceback (most recent call last)",
            "\u001b[0;32m<ipython-input-26-055d25c20ff4>\u001b[0m in \u001b[0;36m<module>\u001b[0;34m()\u001b[0m\n\u001b[1;32m      1\u001b[0m \u001b[0mhistory\u001b[0m \u001b[0;34m=\u001b[0m \u001b[0mmodel\u001b[0m\u001b[0;34m.\u001b[0m\u001b[0mfit\u001b[0m\u001b[0;34m(\u001b[0m\u001b[0mX\u001b[0m\u001b[0;34m,\u001b[0m \u001b[0my\u001b[0m\u001b[0;34m,\u001b[0m \u001b[0mepochs\u001b[0m\u001b[0;34m=\u001b[0m\u001b[0;36m100\u001b[0m\u001b[0;34m,\u001b[0m \u001b[0mbatch_size\u001b[0m\u001b[0;34m=\u001b[0m\u001b[0;36m100\u001b[0m\u001b[0;34m,\u001b[0m \u001b[0mverbose\u001b[0m\u001b[0;34m=\u001b[0m\u001b[0;36m1\u001b[0m\u001b[0;34m)\u001b[0m\u001b[0;34m\u001b[0m\u001b[0;34m\u001b[0m\u001b[0m\n\u001b[0;32m----> 2\u001b[0;31m \u001b[0mgc\u001b[0m\u001b[0;34m.\u001b[0m\u001b[0mcollect\u001b[0m\u001b[0;34m(\u001b[0m\u001b[0;34m)\u001b[0m\u001b[0;34m\u001b[0m\u001b[0;34m\u001b[0m\u001b[0m\n\u001b[0m",
            "\u001b[0;31mNameError\u001b[0m: name 'gc' is not defined"
          ]
        }
      ]
    },
    {
      "cell_type": "code",
      "metadata": {
        "id": "gDIA-8l9cl8n",
        "colab_type": "code",
        "outputId": "95a17a7b-92ea-435a-959e-8c2fda634c16",
        "colab": {
          "base_uri": "https://localhost:8080/",
          "height": 102
        }
      },
      "source": [
        "# Find fluke pics of whales that have less than 10 pics in training data\n",
        "\n",
        "TRAIN =\"train\"\n",
        "LABELS = \"train.csv\"\n",
        "\n",
        "train = pd.read_csv(LABELS)\n",
        "train_count = train.groupby('Id').count().rename(columns={\"Image\":\"image_count\"})\n",
        "train = train.merge(train_count,on=['Id'])\n",
        "filelist = train['Image'].loc[(train['image_count']<10)].tolist()\n",
        "filelist[:5]"
      ],
      "execution_count": 0,
      "outputs": [
        {
          "output_type": "execute_result",
          "data": {
            "text/plain": [
              "['0001f9222.jpg',\n",
              " '1d6ccd05a.jpg',\n",
              " '2cccac55a.jpg',\n",
              " 'cad8eabe4.jpg',\n",
              " '00029d126.jpg']"
            ]
          },
          "metadata": {
            "tags": []
          },
          "execution_count": 31
        }
      ]
    },
    {
      "cell_type": "code",
      "metadata": {
        "id": "wK2C8HE9clvg",
        "colab_type": "code",
        "colab": {}
      },
      "source": [
        "# Generate 10 new pics from original pics\n",
        "\n",
        "from PIL import ImageFilter\n",
        "from PIL import Image\n",
        "from time import time\n",
        "\n",
        "try:\n",
        "  os.makedirs('data/copy') # directory for new pics\n",
        "except:\n",
        "  pass\n",
        "\n",
        "t=time()\n",
        "tagged_new = tagged # to store image name and numeric class of orginal images + augmented images\n",
        "# df = pd.read_csv(LABELS)\n",
        "for count in range(0,2):\n",
        "  for imagefile in filelist:\n",
        "    fn = os.path.join('train', imagefile)\n",
        "    class_num = tagged[imagefile]\n",
        "    im=Image.open(fn)\n",
        "    im=im.convert(\"RGB\")\n",
        "    r,g,b=im.split()\n",
        "    r=r.convert(\"RGB\")\n",
        "    g=g.convert(\"RGB\")\n",
        "    b=b.convert(\"RGB\")\n",
        "    im_blur=im.filter(ImageFilter.GaussianBlur)\n",
        "    im_unsharp=im.filter(ImageFilter.UnsharpMask)\n",
        "\n",
        "    # Save augmented copy of each of the images each as R/B& G\n",
        "    r.save(os.path.join('data/copy',str(count)+'r_'+imagefile))\n",
        "    g.save(os.path.join('data/copy',str(count)+'g_'+imagefile))\n",
        "    b.save(os.path.join('data/copy',str(count)+'b_'+imagefile))  \n",
        "    # Save augmented copy of each image which is blury\n",
        "    im_blur.save(os.path.join('data/copy',str(count)+'bl_'+imagefile))\n",
        "    # Save augmented copy of each image which is unsharp\n",
        "    im_unsharp.save(os.path.join('data/copy',str(count)+'un_'+imagefile))\n",
        "   \n",
        "    tagged_new[os.path.join(str(count)+'r_'+imagefile)] = class_num\n",
        "    tagged_new[os.path.join(str(count)+'g_'+imagefile)] = class_num\n",
        "    tagged_new[os.path.join(str(count)+'b_'+imagefile)] = class_num\n",
        "    tagged_new[os.path.join(str(count)+'bl_'+imagefile)] = class_num\n",
        "    tagged_new[os.path.join(str(count)+'un_'+imagefile)] = class_num\n",
        "\n",
        "    # df2 = pd.DataFrame({'Image': [os.path.join(str(count)+'r_'+imagefile),\n",
        "    #                     os.path.join(str(count)+'g_'+imagefile),\n",
        "    #                     os.path.join(str(count)+'b_'+imagefile),\n",
        "    #                     os.path.join(str(count)+'bl_'+imagefile),\n",
        "    #                     os.path.join(str(count)+'un_'+imagefile)],\n",
        "    #                      'Id':[class_num]*5})\n",
        "    \n",
        "    # df = pd.concat([df,df2])\n",
        "\n",
        "#df.to_csv('new_train.csv')\n",
        "print(time() -t ) # print running time: 3088.58s\n"
      ],
      "execution_count": 0,
      "outputs": []
    },
    {
      "cell_type": "code",
      "metadata": {
        "id": "Edd1yioHYZOW",
        "colab_type": "code",
        "outputId": "ad063072-2298-4627-966f-634c47d37cc8",
        "colab": {
          "base_uri": "https://localhost:8080/",
          "height": 68
        }
      },
      "source": [
        "import matplotlib.pyplot as plt\n",
        "import numpy as np\n",
        "from scipy import misc, ndimage\n",
        "import keras\n",
        "from keras import backend as k\n",
        "from keras.preprocessing.image import ImageDataGenerator\n",
        "import matplotlib.image as mpimg\n",
        "from time import time\n",
        "\n",
        "PATH = 'train'\n",
        "BATCH = 32\n",
        "IMG_SIZE = 224\n",
        "\n",
        "train_datagen = ImageDataGenerator(validation_split=0.2,\n",
        "                                   rescale = 1./255)\n",
        "\n",
        "train_generator = train_datagen.flow_from_dataframe(df, # change this to df_new when using augmented data\n",
        "                                                    directory=PATH,\n",
        "                                                    x_col='Image',\n",
        "                                                    y_col='Id',\n",
        "                                                    class_mode='categorical',\n",
        "                                                 #   color_mode='grayscale',\n",
        "                                                    target_size=(IMG_SIZE,IMG_SIZE),\n",
        "                                                    batch_size=BATCH,\n",
        "                                                    subset=\"training\",\n",
        "                                                    shuffle=True\n",
        "                                                   )\n",
        "\n",
        "valid_generator = train_datagen.flow_from_dataframe(df,\n",
        "                                                    directory=PATH,\n",
        "                                                    x_col='Image',\n",
        "                                                    y_col='Id',\n",
        "                                                    class_mode='categorical',\n",
        "                                                 #   color_mode='grayscale',\n",
        "                                                    target_size=(IMG_SIZE,IMG_SIZE),\n",
        "                                                    batch_size=BATCH,\n",
        "                                                    subset=\"validation\",\n",
        "                                                    shuffle=True\n",
        "                                                   )\n",
        "\n",
        "\n",
        "STEP_SIZE_TRAIN = train_generator.n//train_generator.batch_size\n",
        "STEP_SIZE_VALID = valid_generator.n//valid_generator.batch_size\n",
        "print(\"Total number of batches =\", STEP_SIZE_TRAIN, \"and\", STEP_SIZE_VALID)\n"
      ],
      "execution_count": 0,
      "outputs": [
        {
          "output_type": "stream",
          "text": [
            "Found 20289 validated image filenames belonging to 5005 classes.\n",
            "Found 5072 validated image filenames belonging to 5005 classes.\n",
            "Total number of batches = 634 and 158\n"
          ],
          "name": "stdout"
        }
      ]
    },
    {
      "cell_type": "code",
      "metadata": {
        "id": "EEQi82KGYZMF",
        "colab_type": "code",
        "outputId": "1c81f69e-bd6a-4d20-aee0-9e7387da3a9a",
        "colab": {
          "base_uri": "https://localhost:8080/",
          "height": 751
        }
      },
      "source": [
        "from keras.models import Sequential\n",
        "from keras.layers import Dense, Dropout, Activation, Flatten, Conv2D, MaxPooling2D\n",
        "from time import time\n",
        "\n",
        "model2 = Sequential()\n",
        "model2.add(Conv2D(32,(7,7), strides = (1, 1), input_shape=(224,224,3)))\n",
        "#model.add(BatchNormalization(axis = 3, name = 'bn0'))\n",
        "model2.add(Activation('relu'))\n",
        "model2.add(MaxPooling2D(pool_size=(2,2), name='max_pool'))\n",
        "\n",
        "model2.add(Conv2D(64,(3,3), strides = (1,1), name=\"conv1\"))\n",
        "model2.add(Activation('relu'))\n",
        "model2.add(MaxPooling2D(pool_size=(3,3), name='avg_pool'))\n",
        "\n",
        "model2.add(Flatten())\n",
        "model2.add(Dense(512, activation=\"relu\", name='rl'))\n",
        "model2.add(Dropout(0.15)) \n",
        "\n",
        "model2.add(Dense(5005,activation='softmax', name='sm'))\n",
        "\n",
        "#model2.add(Activation('softmax'))\n",
        "\n",
        "model2.compile(loss='categorical_crossentropy',\n",
        "              optimizer='adam',\n",
        "              metrics=['accuracy'])\n",
        "\n",
        "t = time()\n",
        "history2 = model2.fit_generator(\n",
        "        train_generator,\n",
        "        steps_per_epoch=640,\n",
        "        shuffle = True,\n",
        "        epochs=10,\n",
        "        validation_data=valid_generator,\n",
        "        validation_steps=160,\n",
        "        use_multiprocessing=True,\n",
        "        workers=16\n",
        "        )\n",
        "print(time()-t)\n",
        "#model2.fit(X,y,epochs=3, batch_size=32)"
      ],
      "execution_count": 0,
      "outputs": [
        {
          "output_type": "stream",
          "text": [
            "WARNING:tensorflow:From /usr/local/lib/python3.6/dist-packages/tensorflow_core/python/ops/math_grad.py:1424: where (from tensorflow.python.ops.array_ops) is deprecated and will be removed in a future version.\n",
            "Instructions for updating:\n",
            "Use tf.where in 2.0, which has the same broadcast rule as np.where\n",
            "WARNING:tensorflow:From /usr/local/lib/python3.6/dist-packages/keras/backend/tensorflow_backend.py:1033: The name tf.assign_add is deprecated. Please use tf.compat.v1.assign_add instead.\n",
            "\n",
            "WARNING:tensorflow:From /usr/local/lib/python3.6/dist-packages/keras/backend/tensorflow_backend.py:1020: The name tf.assign is deprecated. Please use tf.compat.v1.assign instead.\n",
            "\n",
            "WARNING:tensorflow:From /usr/local/lib/python3.6/dist-packages/keras/backend/tensorflow_backend.py:3005: The name tf.Session is deprecated. Please use tf.compat.v1.Session instead.\n",
            "\n",
            "Epoch 1/10\n",
            "WARNING:tensorflow:From /usr/local/lib/python3.6/dist-packages/keras/backend/tensorflow_backend.py:190: The name tf.get_default_session is deprecated. Please use tf.compat.v1.get_default_session instead.\n",
            "\n",
            "WARNING:tensorflow:From /usr/local/lib/python3.6/dist-packages/keras/backend/tensorflow_backend.py:197: The name tf.ConfigProto is deprecated. Please use tf.compat.v1.ConfigProto instead.\n",
            "\n",
            "WARNING:tensorflow:From /usr/local/lib/python3.6/dist-packages/keras/backend/tensorflow_backend.py:207: The name tf.global_variables is deprecated. Please use tf.compat.v1.global_variables instead.\n",
            "\n",
            "WARNING:tensorflow:From /usr/local/lib/python3.6/dist-packages/keras/backend/tensorflow_backend.py:216: The name tf.is_variable_initialized is deprecated. Please use tf.compat.v1.is_variable_initialized instead.\n",
            "\n",
            "WARNING:tensorflow:From /usr/local/lib/python3.6/dist-packages/keras/backend/tensorflow_backend.py:223: The name tf.variables_initializer is deprecated. Please use tf.compat.v1.variables_initializer instead.\n",
            "\n",
            "635/640 [============================>.] - ETA: 0s - loss: 7.1712 - acc: 0.2282\n",
            "639/640 [============================>.] - ETA: 0s - loss: 7.1697 - acc: 0.2283\n",
            "640/640 [==============================] - 144s 225ms/step - loss: 7.1688 - acc: 0.2283 - val_loss: 1.7755 - val_acc: 0.9957\n",
            "Epoch 2/10\n",
            "640/640 [==============================] - 131s 205ms/step - loss: 6.8601 - acc: 0.2283 - val_loss: 1.3081 - val_acc: 0.9957\n",
            "Epoch 3/10\n",
            "640/640 [==============================] - 132s 206ms/step - loss: 6.7863 - acc: 0.2274 - val_loss: 1.5476 - val_acc: 0.9953\n",
            "Epoch 4/10\n",
            "640/640 [==============================] - 132s 206ms/step - loss: 6.7484 - acc: 0.2269 - val_loss: 1.5805 - val_acc: 0.9957\n",
            "Epoch 5/10\n",
            "640/640 [==============================] - 132s 206ms/step - loss: 6.6262 - acc: 0.2277 - val_loss: 1.6330 - val_acc: 0.9943\n",
            "Epoch 6/10\n",
            "640/640 [==============================] - 130s 204ms/step - loss: 6.3478 - acc: 0.2288 - val_loss: 1.6545 - val_acc: 0.9761\n",
            "Epoch 7/10\n",
            "640/640 [==============================] - 130s 203ms/step - loss: 5.8455 - acc: 0.2361 - val_loss: 1.6884 - val_acc: 0.9367\n",
            "Epoch 8/10\n",
            "640/640 [==============================] - 131s 205ms/step - loss: 5.0628 - acc: 0.2680 - val_loss: 1.7510 - val_acc: 0.8468\n",
            "Epoch 9/10\n",
            "640/640 [==============================] - 131s 205ms/step - loss: 3.9928 - acc: 0.3413 - val_loss: 1.5791 - val_acc: 0.8015\n",
            "Epoch 10/10\n",
            "640/640 [==============================] - 131s 205ms/step - loss: 2.7891 - acc: 0.4658 - val_loss: 1.6305 - val_acc: 0.7218\n",
            "1326.0490062236786\n"
          ],
          "name": "stdout"
        }
      ]
    },
    {
      "cell_type": "code",
      "metadata": {
        "id": "PSnwZMOGj0oz",
        "colab_type": "code",
        "outputId": "75159c14-77c8-4858-c4a1-a09f3bcfd3c3",
        "colab": {
          "base_uri": "https://localhost:8080/",
          "height": 51
        }
      },
      "source": [
        "a = model2.fit_generator(\n",
        "        train_generator,\n",
        "        steps_per_epoch=640,\n",
        "        shuffle = True,\n",
        "        epochs=1,\n",
        "        validation_data=valid_generator,\n",
        "        validation_steps=160,\n",
        "        use_multiprocessing=True,\n",
        "        workers=16\n",
        "        )"
      ],
      "execution_count": 0,
      "outputs": [
        {
          "output_type": "stream",
          "text": [
            "Epoch 1/1\n",
            "640/640 [==============================] - 127s 199ms/step - loss: 6.6313 - acc: 0.2273 - val_loss: 1.8889 - val_acc: 0.9951\n"
          ],
          "name": "stdout"
        }
      ]
    },
    {
      "cell_type": "code",
      "metadata": {
        "id": "KPZhi9DgiS-p",
        "colab_type": "code",
        "outputId": "d2293bad-1502-46a1-eb8d-39d8ba07096f",
        "colab": {
          "base_uri": "https://localhost:8080/",
          "height": 295
        }
      },
      "source": [
        "plt.plot(history2.history['acc'], label = 'train acc')\n",
        "plt.plot(history2.history['val_acc'], label = 'val acc')\n",
        "plt.title('Model accuracy')\n",
        "plt.ylabel('Accuracy')\n",
        "plt.xlabel('Epoch')\n",
        "plt.legend()\n",
        "plt.show()"
      ],
      "execution_count": 0,
      "outputs": [
        {
          "output_type": "display_data",
          "data": {
            "image/png": "[encoded data removed]",
            "text/plain": [
              "<Figure size 432x288 with 1 Axes>"
            ]
          },
          "metadata": {
            "tags": []
          }
        }
      ]
    },
    {
      "cell_type": "code",
      "metadata": {
        "id": "IA33SSeX2sNT",
        "colab_type": "code",
        "outputId": "11f11d3d-8e15-4097-d70b-c8caf871d141",
        "colab": {
          "base_uri": "https://localhost:8080/",
          "height": 295
        }
      },
      "source": [
        "plt.plot(history2.history['loss'], label = 'train loss')\n",
        "plt.plot(history2.history['val_loss'], label = 'val loss')\n",
        "plt.title('Model Loss')\n",
        "plt.ylabel('Accuracy')\n",
        "plt.xlabel('Epoch')\n",
        "plt.legend()\n",
        "plt.show()"
      ],
      "execution_count": 0,
      "outputs": [
        {
          "output_type": "display_data",
          "data": {
            "image/png": "[encoded data removed]",
            "text/plain": [
              "<Figure size 432x288 with 1 Axes>"
            ]
          },
          "metadata": {
            "tags": []
          }
        }
      ]
    },
    {
      "cell_type": "code",
      "metadata": {
        "id": "PBH2srwE2sEU",
        "colab_type": "code",
        "colab": {}
      },
      "source": [
        ""
      ],
      "execution_count": 0,
      "outputs": []
    },
    {
      "cell_type": "code",
      "metadata": {
        "id": "Rw0s6X1ss0Xd",
        "colab_type": "code",
        "outputId": "2cd21d24-fb3e-4fb4-ff72-babf03a4d4dc",
        "colab": {
          "base_uri": "https://localhost:8080/",
          "height": 295
        }
      },
      "source": [
        "plt.plot(np.arange(0, 10), history2.history['val_acc'])\n",
        "plt.title('Model accuracy')\n",
        "plt.ylabel('Accuracy')\n",
        "plt.xlabel('Epoch')\n",
        "plt.show()"
      ],
      "execution_count": 0,
      "outputs": [
        {
          "output_type": "display_data",
          "data": {
            "image/png": "[encoded data removed]",
            "text/plain": [
              "<Figure size 432x288 with 1 Axes>"
            ]
          },
          "metadata": {
            "tags": []
          }
        }
      ]
    },
    {
      "cell_type": "code",
      "metadata": {
        "id": "fmWe-Kz2KJbg",
        "colab_type": "code",
        "outputId": "491765ba-3013-41f7-c8d4-b75539605ebc",
        "colab": {
          "base_uri": "https://localhost:8080/",
          "height": 295
        }
      },
      "source": [
        "plt.plot(history2.history['loss'], label = 'train loss')\n",
        "plt.plot(history2.history['val_loss'], label='val loss')\n",
        "plt.title('Model accuracy')\n",
        "plt.ylabel('Accuracy')\n",
        "plt.xlabel('Epoch')\n",
        "plt.legend()\n",
        "plt.show()"
      ],
      "execution_count": 0,
      "outputs": [
        {
          "output_type": "display_data",
          "data": {
            "image/png": "[encoded data removed]",
            "text/plain": [
              "<Figure size 432x288 with 1 Axes>"
            ]
          },
          "metadata": {
            "tags": []
          }
        }
      ]
    },
    {
      "cell_type": "code",
      "metadata": {
        "id": "osT4fmVof5kD",
        "colab_type": "code",
        "outputId": "85e10384-2230-4d72-9918-553b67551c74",
        "colab": {
          "base_uri": "https://localhost:8080/",
          "height": 139
        }
      },
      "source": [
        "import pandas as pd\n",
        "import numpy as np\n",
        "import matplotlib.pyplot as plt\n",
        "import json\n",
        "import os\n",
        "from tqdm import tqdm, tqdm_notebook\n",
        "import random\n",
        "\n",
        "import tensorflow as tf\n",
        "from keras.models import Sequential, Model\n",
        "from keras.layers import *\n",
        "from keras.optimizers import *\n",
        "from keras.applications import *\n",
        "from keras.callbacks import *\n",
        "from keras.initializers import *\n",
        "from keras.preprocessing.image import ImageDataGenerator\n",
        "\n",
        "from numpy.random import seed\n",
        "seed(1)\n",
        "\n",
        "# Load pre-trained model\n",
        "base_model = ResNet50(weights='imagenet', include_top=False, input_shape=(224,224,3))\n",
        "\n",
        "for layer in base_model.layers:\n",
        "    layer.trainable = True\n",
        "\n",
        "\n",
        "# get class size\n",
        "n_classes = 5005\n",
        "\n",
        "# Add layers at the end\n",
        "X = base_model.output\n",
        "X = Flatten()(X)\n",
        "\n",
        "X = Dense(512, kernel_initializer='he_uniform')(X)\n",
        "#X = Dropout(0.7)(X)\n",
        "X = Activation('relu')(X)\n",
        "X = BatchNormalization()(X)\n",
        "\n",
        "# X = Dense(16, kernel_initializer='he_uniform')(X)\n",
        "# #X = Dropout(0.7)(X)\n",
        "# X = Activation('relu')(X)\n",
        "# X = BatchNormalization()(X)\n",
        "\n",
        "output = Dense(n_classes, activation='softmax')(X)\n",
        "\n",
        "model3 = Model(inputs=base_model.input, outputs=output)"
      ],
      "execution_count": 0,
      "outputs": [
        {
          "output_type": "stream",
          "text": [
            "WARNING:tensorflow:From /usr/local/lib/python3.6/dist-packages/keras/backend/tensorflow_backend.py:4479: The name tf.truncated_normal is deprecated. Please use tf.random.truncated_normal instead.\n",
            "\n"
          ],
          "name": "stdout"
        },
        {
          "output_type": "stream",
          "text": [
            "/usr/local/lib/python3.6/dist-packages/keras_applications/resnet50.py:265: UserWarning: The output shape of `ResNet50(include_top=False)` has been changed since Keras 2.2.0.\n",
            "  warnings.warn('The output shape of `ResNet50(include_top=False)` '\n"
          ],
          "name": "stderr"
        },
        {
          "output_type": "stream",
          "text": [
            "Downloading data from https://github.com/fchollet/deep-learning-models/releases/download/v0.2/resnet50_weights_tf_dim_ordering_tf_kernels_notop.h5\n",
            "94658560/94653016 [==============================] - 7s 0us/step\n"
          ],
          "name": "stdout"
        }
      ]
    },
    {
      "cell_type": "code",
      "metadata": {
        "id": "0jkm4aLEf5gv",
        "colab_type": "code",
        "colab": {}
      },
      "source": [
        "optimizer = Adam(lr=0.0001)\n",
        "model3.compile(loss='categorical_crossentropy',\n",
        "              optimizer=optimizer, \n",
        "              metrics=['accuracy'])\n",
        "\n",
        "n_epoch = 50\n",
        "\n",
        "early_stop = EarlyStopping(monitor='val_loss', patience=20, verbose=1, \n",
        "                           mode='auto', restore_best_weights=True)\n",
        "\n",
        "reduce_lr = ReduceLROnPlateau(monitor='val_loss', factor=0.1, patience=5, \n",
        "                              verbose=1, mode='auto')"
      ],
      "execution_count": 0,
      "outputs": []
    },
    {
      "cell_type": "code",
      "metadata": {
        "id": "6jg47fZRf5dZ",
        "colab_type": "code",
        "outputId": "0531b646-a402-4037-a38d-a5f95e405c05",
        "colab": {
          "base_uri": "https://localhost:8080/",
          "height": 408
        }
      },
      "source": [
        "from keras.callbacks import CSVLogger\n",
        "from time import time\n",
        "\n",
        "csv_logger = CSVLogger(\"Resnet_history_artists_200_log.csv\", append=True)\n",
        "\n",
        "\n",
        "t = time()\n",
        "history3 = model3.fit_generator(\n",
        "        train_generator,\n",
        "        steps_per_epoch=1500,\n",
        "        shuffle=True,\n",
        "        verbose=1,\n",
        "        callbacks=[reduce_lr, csv_logger],\n",
        "        use_multiprocessing=True,\n",
        "        epochs=10,\n",
        "        validation_data=valid_generator,\n",
        "        validation_steps=380)\n",
        "print(time()-t)"
      ],
      "execution_count": 0,
      "outputs": [
        {
          "output_type": "stream",
          "text": [
            "Epoch 1/10\n",
            "1500/1500 [==============================] - 589s 392ms/step - loss: 4.8801 - acc: 0.4253 - val_loss: 3.0436 - val_acc: 0.8243\n",
            "Epoch 2/10\n",
            "1500/1500 [==============================] - 577s 385ms/step - loss: 1.0274 - acc: 0.9266 - val_loss: 1.4815 - val_acc: 0.8964\n",
            "Epoch 3/10\n",
            "1500/1500 [==============================] - 584s 389ms/step - loss: 0.0610 - acc: 0.9977 - val_loss: 1.6081 - val_acc: 0.8767\n",
            "Epoch 4/10\n",
            "1500/1500 [==============================] - 595s 396ms/step - loss: 0.2408 - acc: 0.9793 - val_loss: 1.8952 - val_acc: 0.8405\n",
            "Epoch 5/10\n",
            "1500/1500 [==============================] - 597s 398ms/step - loss: 0.0887 - acc: 0.9929 - val_loss: 1.8191 - val_acc: 0.8301\n",
            "Epoch 6/10\n",
            "1500/1500 [==============================] - 600s 400ms/step - loss: 0.0183 - acc: 0.9986 - val_loss: 1.5879 - val_acc: 0.8461\n",
            "Epoch 7/10\n",
            "1500/1500 [==============================] - 603s 402ms/step - loss: 0.0068 - acc: 0.9993 - val_loss: 1.5886 - val_acc: 0.8480\n",
            "\n",
            "Epoch 00007: ReduceLROnPlateau reducing learning rate to 9.999999747378752e-06.\n",
            "Epoch 8/10\n",
            "1500/1500 [==============================] - 594s 396ms/step - loss: 0.0177 - acc: 0.9980 - val_loss: 1.5494 - val_acc: 0.8539\n",
            "Epoch 9/10\n",
            "1500/1500 [==============================] - 579s 386ms/step - loss: 0.0117 - acc: 0.9987 - val_loss: 1.5959 - val_acc: 0.8483\n",
            "Epoch 10/10\n",
            "1500/1500 [==============================] - 578s 385ms/step - loss: 0.0132 - acc: 0.9993 - val_loss: 1.5260 - val_acc: 0.8541\n",
            "5896.434863090515\n"
          ],
          "name": "stdout"
        }
      ]
    },
    {
      "cell_type": "code",
      "metadata": {
        "id": "z_NpVKsTf42S",
        "colab_type": "code",
        "outputId": "f9241153-46ae-4e8f-bb5a-7765f7cfb73d",
        "colab": {
          "base_uri": "https://localhost:8080/",
          "height": 295
        }
      },
      "source": [
        "plt.plot(history3.history['acc'], label = 'train_acc')\n",
        "plt.plot(history3.history['val_acc'], label='val acc')\n",
        "plt.title('Model accuracy')\n",
        "plt.ylabel('Accuracy')\n",
        "plt.xlabel('Epoch')\n",
        "plt.legend()\n",
        "plt.show()"
      ],
      "execution_count": 0,
      "outputs": [
        {
          "output_type": "display_data",
          "data": {
            "image/png": "[encoded data removed]",
            "text/plain": [
              "<Figure size 432x288 with 1 Axes>"
            ]
          },
          "metadata": {
            "tags": []
          }
        }
      ]
    }
  ]
}
